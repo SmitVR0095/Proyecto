{
 "cells": [
  {
   "cell_type": "markdown",
   "metadata": {
    "id": "QsQGQ2q_UFjM"
   },
   "source": [
    "<center><img src=\"https://media-exp1.licdn.com/dms/image/C4E22AQEbIXZiRVkJPQ/feedshare-shrink_2048_1536/0?e=1598486400&v=beta&t=DSWeH9gVxZecLFd10nv-rGomMSJEJP7D2pXl60V1-9A\" width=\"1000\"></center>"
   ]
  },
  {
   "cell_type": "markdown",
   "metadata": {
    "id": "gWh-O1GPUFjV"
   },
   "source": [
    "# SDC Certified Program in Python for Data Science\n",
    "\n",
    "## PROYECTO 3\n",
    "### Autor: Smit  Jonatan Villafranca Romero"
   ]
  },
  {
   "cell_type": "markdown",
   "metadata": {
    "id": "M3Av-vSWUFjW"
   },
   "source": [
    "## Información del conjunto de datos"
   ]
  },
  {
   "cell_type": "markdown",
   "metadata": {
    "id": "EDL7-19LUFjW"
   },
   "source": [
    "Los dos conjuntos de datos están relacionados con variantes rojas y blancas del vino portugués \"Vinho Verde\". . Debido a cuestiones de privacidad y logística, solo están disponibles las variables fisicoquímicas (entradas) y sensoriales (la salida) (por ejemplo, no hay datos sobre tipos de uvas, marcas de vinos, precios de venta de vinos, etc.)\n",
    "\n",
    "Basado en este conjunto de datos el objetivo es determinar un algoritmo que logre predecir si el vino se categoriza en rojo o blanco haciendo uso de un modelo estadístico de clasificación.\n"
   ]
  },
  {
   "cell_type": "markdown",
   "metadata": {
    "id": "7ThmdHNpUFjX"
   },
   "source": [
    "## Información del atributo:"
   ]
  },
  {
   "cell_type": "markdown",
   "metadata": {
    "id": "vlPGcrOgUFjX"
   },
   "source": [
    "Variables de entrada (basadas en pruebas fisicoquímicas):\n",
    "\n",
    "1 - fixed acidity(acidez fija)\n",
    "\n",
    "2 - volatile acidity(acidez volátil)\n",
    "\n",
    "3 - citric acid(ácido cítrico)\n",
    "\n",
    "4 - residual sugar(azúcar residual)\n",
    "\n",
    "5 - chlorides(cloruros)\n",
    "\n",
    "6 - free sulfur dioxide(dióxido de azufre libre)\n",
    "\n",
    "7 - total sulfur dioxide(dióxido de azufre total)\n",
    "\n",
    "8 - density(densidad)\n",
    "\n",
    "9 - pH\n",
    "\n",
    "10 - sulphates(sulfatos)\n",
    "\n",
    "11 - alcohol\n",
    "\n",
    "Variable de salida (basada en datos sensoriales):\n",
    "\n",
    "12 - wine_type(white,red)\n"
   ]
  },
  {
   "cell_type": "code",
   "execution_count": 3,
   "metadata": {
    "id": "epytVCBqUFjY",
    "outputId": "0244c231-d44b-4f6b-865d-7ce28bc07525"
   },
   "outputs": [
    {
     "name": "stdout",
     "output_type": "stream",
     "text": [
      "<class 'pandas.core.frame.DataFrame'>\n",
      "RangeIndex: 6497 entries, 0 to 6496\n",
      "Data columns (total 12 columns):\n",
      " #   Column                Non-Null Count  Dtype  \n",
      "---  ------                --------------  -----  \n",
      " 0   fixed acidity         6497 non-null   float64\n",
      " 1   volatile acidity      6497 non-null   float64\n",
      " 2   citric acid           6497 non-null   float64\n",
      " 3   residual sugar        6497 non-null   float64\n",
      " 4   chlorides             6497 non-null   float64\n",
      " 5   free sulfur dioxide   6497 non-null   float64\n",
      " 6   total sulfur dioxide  6497 non-null   float64\n",
      " 7   density               6497 non-null   float64\n",
      " 8   pH                    6497 non-null   float64\n",
      " 9   sulphates             6497 non-null   float64\n",
      " 10  alcohol               6497 non-null   float64\n",
      " 11  wine_type             6497 non-null   object \n",
      "dtypes: float64(11), object(1)\n",
      "memory usage: 609.2+ KB\n"
     ]
    }
   ],
   "source": [
    "import pandas as pd\n",
    "wines = pd.read_csv('E:\\PYTHON\\MODULO 2-INTERMEDIO\\EXAMEN FINAL-INTERMEDIO\\wines_types.csv')\n",
    "wines.info()"
   ]
  },
  {
   "cell_type": "code",
   "execution_count": 4,
   "metadata": {
    "id": "D_GmMU9uUFjZ",
    "outputId": "512a0e9a-0c95-4893-f9da-a2a2beeb6aff"
   },
   "outputs": [
    {
     "data": {
      "text/html": [
       "<div>\n",
       "<style scoped>\n",
       "    .dataframe tbody tr th:only-of-type {\n",
       "        vertical-align: middle;\n",
       "    }\n",
       "\n",
       "    .dataframe tbody tr th {\n",
       "        vertical-align: top;\n",
       "    }\n",
       "\n",
       "    .dataframe thead th {\n",
       "        text-align: right;\n",
       "    }\n",
       "</style>\n",
       "<table border=\"1\" class=\"dataframe\">\n",
       "  <thead>\n",
       "    <tr style=\"text-align: right;\">\n",
       "      <th></th>\n",
       "      <th>fixed acidity</th>\n",
       "      <th>volatile acidity</th>\n",
       "      <th>citric acid</th>\n",
       "      <th>residual sugar</th>\n",
       "      <th>chlorides</th>\n",
       "      <th>free sulfur dioxide</th>\n",
       "      <th>total sulfur dioxide</th>\n",
       "      <th>density</th>\n",
       "      <th>pH</th>\n",
       "      <th>sulphates</th>\n",
       "      <th>alcohol</th>\n",
       "      <th>wine_type</th>\n",
       "    </tr>\n",
       "  </thead>\n",
       "  <tbody>\n",
       "    <tr>\n",
       "      <th>0</th>\n",
       "      <td>7.0</td>\n",
       "      <td>0.17</td>\n",
       "      <td>0.74</td>\n",
       "      <td>12.8</td>\n",
       "      <td>0.045</td>\n",
       "      <td>24.0</td>\n",
       "      <td>126.0</td>\n",
       "      <td>0.99420</td>\n",
       "      <td>3.26</td>\n",
       "      <td>0.38</td>\n",
       "      <td>12.2</td>\n",
       "      <td>white</td>\n",
       "    </tr>\n",
       "    <tr>\n",
       "      <th>1</th>\n",
       "      <td>7.7</td>\n",
       "      <td>0.64</td>\n",
       "      <td>0.21</td>\n",
       "      <td>2.2</td>\n",
       "      <td>0.077</td>\n",
       "      <td>32.0</td>\n",
       "      <td>133.0</td>\n",
       "      <td>0.99560</td>\n",
       "      <td>3.27</td>\n",
       "      <td>0.45</td>\n",
       "      <td>9.9</td>\n",
       "      <td>red</td>\n",
       "    </tr>\n",
       "    <tr>\n",
       "      <th>2</th>\n",
       "      <td>6.8</td>\n",
       "      <td>0.39</td>\n",
       "      <td>0.34</td>\n",
       "      <td>7.4</td>\n",
       "      <td>0.020</td>\n",
       "      <td>38.0</td>\n",
       "      <td>133.0</td>\n",
       "      <td>0.99212</td>\n",
       "      <td>3.18</td>\n",
       "      <td>0.44</td>\n",
       "      <td>12.0</td>\n",
       "      <td>white</td>\n",
       "    </tr>\n",
       "    <tr>\n",
       "      <th>3</th>\n",
       "      <td>6.3</td>\n",
       "      <td>0.28</td>\n",
       "      <td>0.47</td>\n",
       "      <td>11.2</td>\n",
       "      <td>0.040</td>\n",
       "      <td>61.0</td>\n",
       "      <td>183.0</td>\n",
       "      <td>0.99592</td>\n",
       "      <td>3.12</td>\n",
       "      <td>0.51</td>\n",
       "      <td>9.5</td>\n",
       "      <td>white</td>\n",
       "    </tr>\n",
       "    <tr>\n",
       "      <th>4</th>\n",
       "      <td>7.4</td>\n",
       "      <td>0.35</td>\n",
       "      <td>0.20</td>\n",
       "      <td>13.9</td>\n",
       "      <td>0.054</td>\n",
       "      <td>63.0</td>\n",
       "      <td>229.0</td>\n",
       "      <td>0.99888</td>\n",
       "      <td>3.11</td>\n",
       "      <td>0.50</td>\n",
       "      <td>8.9</td>\n",
       "      <td>white</td>\n",
       "    </tr>\n",
       "    <tr>\n",
       "      <th>5</th>\n",
       "      <td>7.2</td>\n",
       "      <td>0.53</td>\n",
       "      <td>0.14</td>\n",
       "      <td>2.1</td>\n",
       "      <td>0.064</td>\n",
       "      <td>15.0</td>\n",
       "      <td>29.0</td>\n",
       "      <td>0.99323</td>\n",
       "      <td>3.35</td>\n",
       "      <td>0.61</td>\n",
       "      <td>12.1</td>\n",
       "      <td>red</td>\n",
       "    </tr>\n",
       "    <tr>\n",
       "      <th>6</th>\n",
       "      <td>7.5</td>\n",
       "      <td>0.27</td>\n",
       "      <td>0.31</td>\n",
       "      <td>17.7</td>\n",
       "      <td>0.051</td>\n",
       "      <td>33.0</td>\n",
       "      <td>173.0</td>\n",
       "      <td>0.99900</td>\n",
       "      <td>3.09</td>\n",
       "      <td>0.64</td>\n",
       "      <td>10.2</td>\n",
       "      <td>white</td>\n",
       "    </tr>\n",
       "    <tr>\n",
       "      <th>7</th>\n",
       "      <td>6.8</td>\n",
       "      <td>0.11</td>\n",
       "      <td>0.27</td>\n",
       "      <td>8.6</td>\n",
       "      <td>0.044</td>\n",
       "      <td>45.0</td>\n",
       "      <td>104.0</td>\n",
       "      <td>0.99454</td>\n",
       "      <td>3.20</td>\n",
       "      <td>0.37</td>\n",
       "      <td>9.9</td>\n",
       "      <td>white</td>\n",
       "    </tr>\n",
       "    <tr>\n",
       "      <th>8</th>\n",
       "      <td>9.0</td>\n",
       "      <td>0.44</td>\n",
       "      <td>0.49</td>\n",
       "      <td>2.4</td>\n",
       "      <td>0.078</td>\n",
       "      <td>26.0</td>\n",
       "      <td>121.0</td>\n",
       "      <td>0.99780</td>\n",
       "      <td>3.23</td>\n",
       "      <td>0.58</td>\n",
       "      <td>9.2</td>\n",
       "      <td>red</td>\n",
       "    </tr>\n",
       "    <tr>\n",
       "      <th>9</th>\n",
       "      <td>7.1</td>\n",
       "      <td>0.23</td>\n",
       "      <td>0.30</td>\n",
       "      <td>2.6</td>\n",
       "      <td>0.034</td>\n",
       "      <td>62.0</td>\n",
       "      <td>148.0</td>\n",
       "      <td>0.99121</td>\n",
       "      <td>3.03</td>\n",
       "      <td>0.56</td>\n",
       "      <td>11.3</td>\n",
       "      <td>white</td>\n",
       "    </tr>\n",
       "  </tbody>\n",
       "</table>\n",
       "</div>"
      ],
      "text/plain": [
       "   fixed acidity  volatile acidity  citric acid  residual sugar  chlorides  \\\n",
       "0            7.0              0.17         0.74            12.8      0.045   \n",
       "1            7.7              0.64         0.21             2.2      0.077   \n",
       "2            6.8              0.39         0.34             7.4      0.020   \n",
       "3            6.3              0.28         0.47            11.2      0.040   \n",
       "4            7.4              0.35         0.20            13.9      0.054   \n",
       "5            7.2              0.53         0.14             2.1      0.064   \n",
       "6            7.5              0.27         0.31            17.7      0.051   \n",
       "7            6.8              0.11         0.27             8.6      0.044   \n",
       "8            9.0              0.44         0.49             2.4      0.078   \n",
       "9            7.1              0.23         0.30             2.6      0.034   \n",
       "\n",
       "   free sulfur dioxide  total sulfur dioxide  density    pH  sulphates  \\\n",
       "0                 24.0                 126.0  0.99420  3.26       0.38   \n",
       "1                 32.0                 133.0  0.99560  3.27       0.45   \n",
       "2                 38.0                 133.0  0.99212  3.18       0.44   \n",
       "3                 61.0                 183.0  0.99592  3.12       0.51   \n",
       "4                 63.0                 229.0  0.99888  3.11       0.50   \n",
       "5                 15.0                  29.0  0.99323  3.35       0.61   \n",
       "6                 33.0                 173.0  0.99900  3.09       0.64   \n",
       "7                 45.0                 104.0  0.99454  3.20       0.37   \n",
       "8                 26.0                 121.0  0.99780  3.23       0.58   \n",
       "9                 62.0                 148.0  0.99121  3.03       0.56   \n",
       "\n",
       "   alcohol wine_type  \n",
       "0     12.2     white  \n",
       "1      9.9       red  \n",
       "2     12.0     white  \n",
       "3      9.5     white  \n",
       "4      8.9     white  \n",
       "5     12.1       red  \n",
       "6     10.2     white  \n",
       "7      9.9     white  \n",
       "8      9.2       red  \n",
       "9     11.3     white  "
      ]
     },
     "execution_count": 4,
     "metadata": {},
     "output_type": "execute_result"
    }
   ],
   "source": [
    "wines.head(10)"
   ]
  },
  {
   "cell_type": "markdown",
   "metadata": {
    "id": "c7Md3SdzUFja"
   },
   "source": [
    "Actividades:\n",
    "\n",
    "1. Codificar las variable wine_type (white= 1 y red=2) y particionar los datos en entrenamiento (75%) y prueba (25%)\n",
    "2. Modelar el  tipo de vino (wine_type) en función a las variables predictoras haciendo uso del modelo de regresión logístico. Considerar para las predicciones un punto de corte de 0.6\n",
    "3. Aplicar los parámetros del modelo de entrenamiento a los datos de testeo, considerar para las predicciones un punto de corte de 0.6\n",
    "4. Evaluar el modelo de regresión logístico haciendo uso de las métricas de accuracy, sensibilidad. especificidad, auc y curva ROC.\n",
    "5. Modelar el  tipo de vino (wine_type) en función a las variables predictoras haciendo uso del modelo de análisis discriminante lineal. Considerar para las predicciones un punto de corte de 0.6.\n",
    "6. Aplicar los parámetros del modelo de entrenamiento a los datos de testeo, considerar para las predicciones un punto de corte de 0.6.\n",
    "7. Modelar el  tipo de vino (wine_type) en función a las variables predictoras haciendo uso del modelo de análisis discriminante cuadrático. Considerar para las predicciones un punto de corte de 0.6.\n",
    "8. Aplicar los parámetros del modelo de entrenamiento a los datos de testeo, considerar para las predicciones un punto de corte de 0.6.\n",
    "9. Evaluar los modelos de análisis discriminante lineal y cuadrático haciendo uso de las métricas de accuracy, sensibilidad. especificidad, auc y curva ROC. \n",
    "10. Realice una evaluación comentada de los tres modelos y seleccione uno de ellos (el de mejor performance) y estime la probabilidad de que el tipo de vino sea rojo teniendo en cuenta los siguientes valores para la variables:\n",
    "\n",
    "\n",
    "- fixed acidity(acidez fija): 7.2\n",
    "- volatile acidity(acidez volátil): 0.35\n",
    "- citric acid(ácido cítrico): 0.74\n",
    "- residual sugar(azúcar residual): 2.2\n",
    "- chlorides(cloruros): 0.051\n",
    "- free sulfur dioxide(dióxido de azufre libre): 32.0\n",
    "- total sulfur dioxide(dióxido de azufre total): 183\n",
    "- density(densidad): 0.98720\n",
    "- pH: 3.15\n",
    "- sulphates(sulfatos): 0.38\n",
    "- alcohol: 12.0\n"
   ]
  },
  {
   "cell_type": "code",
   "execution_count": 3,
   "metadata": {},
   "outputs": [],
   "source": [
    "import os\n",
    "import seaborn as sns\n",
    "import matplotlib.pyplot as plt\n",
    "import numpy as np\n",
    "import pandas as pd\n",
    "\n",
    "#Particionamiento\n",
    "from sklearn.model_selection import train_test_split\n",
    "\n",
    "\n",
    "#Balanceo de Datos\n",
    "from imblearn.combine import SMOTETomek             #Para llevar a cabo un balanceo de datos por SMOTETomek\n",
    "\n",
    "#Preprocesado y modelado\n",
    "from sklearn.linear_model import LogisticRegression #Para el Análisis de Regresión Logística\n",
    "from sklearn.metrics import classification_report   #Para construir un reporte de clasificación\n",
    "from sklearn.metrics import accuracy_score          #Para el cálculo del accuracy\n",
    "from sklearn.metrics import confusion_matrix        #Para construir una matriz de confusión\n",
    "from sklearn.model_selection import cross_val_score #Para llevar a cabo una validación cruzada\n",
    "\n",
    "\n",
    "from sklearn.discriminant_analysis import LinearDiscriminantAnalysis, QuadraticDiscriminantAnalysis\n",
    "from sklearn.metrics import confusion_matrix, classification_report, precision_score\n",
    "\n",
    "#Configurando warnings\n",
    "import warnings\n",
    "warnings.filterwarnings('ignore')\n",
    "\n",
    "#Definicion de colores\n",
    "colores  = (\"dodgerblue\",\"salmon\", \"palevioletred\",\"steelblue\", \"seagreen\", \"plum\",\"blue\", \"indigo\", \"beige\", \"yellow\")"
   ]
  },
  {
   "cell_type": "markdown",
   "metadata": {},
   "source": [
    "## 1. Codificar las variable wine_type (white= 1 y red=2) y particionar los datos en entrenamiento (75%) y prueba (25%)"
   ]
  },
  {
   "cell_type": "markdown",
   "metadata": {},
   "source": [
    "**Codificar las variable wine_type (white= 1 y red=2)**"
   ]
  },
  {
   "cell_type": "code",
   "execution_count": 4,
   "metadata": {
    "scrolled": true
   },
   "outputs": [
    {
     "data": {
      "text/html": [
       "<div>\n",
       "<style scoped>\n",
       "    .dataframe tbody tr th:only-of-type {\n",
       "        vertical-align: middle;\n",
       "    }\n",
       "\n",
       "    .dataframe tbody tr th {\n",
       "        vertical-align: top;\n",
       "    }\n",
       "\n",
       "    .dataframe thead th {\n",
       "        text-align: right;\n",
       "    }\n",
       "</style>\n",
       "<table border=\"1\" class=\"dataframe\">\n",
       "  <thead>\n",
       "    <tr style=\"text-align: right;\">\n",
       "      <th></th>\n",
       "      <th>fixed acidity</th>\n",
       "      <th>volatile acidity</th>\n",
       "      <th>citric acid</th>\n",
       "      <th>residual sugar</th>\n",
       "      <th>chlorides</th>\n",
       "      <th>free sulfur dioxide</th>\n",
       "      <th>total sulfur dioxide</th>\n",
       "      <th>density</th>\n",
       "      <th>pH</th>\n",
       "      <th>sulphates</th>\n",
       "      <th>alcohol</th>\n",
       "      <th>wine_type</th>\n",
       "    </tr>\n",
       "  </thead>\n",
       "  <tbody>\n",
       "    <tr>\n",
       "      <th>0</th>\n",
       "      <td>7.0</td>\n",
       "      <td>0.17</td>\n",
       "      <td>0.74</td>\n",
       "      <td>12.8</td>\n",
       "      <td>0.045</td>\n",
       "      <td>24.0</td>\n",
       "      <td>126.0</td>\n",
       "      <td>0.99420</td>\n",
       "      <td>3.26</td>\n",
       "      <td>0.38</td>\n",
       "      <td>12.2</td>\n",
       "      <td>1</td>\n",
       "    </tr>\n",
       "    <tr>\n",
       "      <th>1</th>\n",
       "      <td>7.7</td>\n",
       "      <td>0.64</td>\n",
       "      <td>0.21</td>\n",
       "      <td>2.2</td>\n",
       "      <td>0.077</td>\n",
       "      <td>32.0</td>\n",
       "      <td>133.0</td>\n",
       "      <td>0.99560</td>\n",
       "      <td>3.27</td>\n",
       "      <td>0.45</td>\n",
       "      <td>9.9</td>\n",
       "      <td>2</td>\n",
       "    </tr>\n",
       "    <tr>\n",
       "      <th>2</th>\n",
       "      <td>6.8</td>\n",
       "      <td>0.39</td>\n",
       "      <td>0.34</td>\n",
       "      <td>7.4</td>\n",
       "      <td>0.020</td>\n",
       "      <td>38.0</td>\n",
       "      <td>133.0</td>\n",
       "      <td>0.99212</td>\n",
       "      <td>3.18</td>\n",
       "      <td>0.44</td>\n",
       "      <td>12.0</td>\n",
       "      <td>1</td>\n",
       "    </tr>\n",
       "    <tr>\n",
       "      <th>3</th>\n",
       "      <td>6.3</td>\n",
       "      <td>0.28</td>\n",
       "      <td>0.47</td>\n",
       "      <td>11.2</td>\n",
       "      <td>0.040</td>\n",
       "      <td>61.0</td>\n",
       "      <td>183.0</td>\n",
       "      <td>0.99592</td>\n",
       "      <td>3.12</td>\n",
       "      <td>0.51</td>\n",
       "      <td>9.5</td>\n",
       "      <td>1</td>\n",
       "    </tr>\n",
       "    <tr>\n",
       "      <th>4</th>\n",
       "      <td>7.4</td>\n",
       "      <td>0.35</td>\n",
       "      <td>0.20</td>\n",
       "      <td>13.9</td>\n",
       "      <td>0.054</td>\n",
       "      <td>63.0</td>\n",
       "      <td>229.0</td>\n",
       "      <td>0.99888</td>\n",
       "      <td>3.11</td>\n",
       "      <td>0.50</td>\n",
       "      <td>8.9</td>\n",
       "      <td>1</td>\n",
       "    </tr>\n",
       "  </tbody>\n",
       "</table>\n",
       "</div>"
      ],
      "text/plain": [
       "   fixed acidity  volatile acidity  citric acid  residual sugar  chlorides  \\\n",
       "0            7.0              0.17         0.74            12.8      0.045   \n",
       "1            7.7              0.64         0.21             2.2      0.077   \n",
       "2            6.8              0.39         0.34             7.4      0.020   \n",
       "3            6.3              0.28         0.47            11.2      0.040   \n",
       "4            7.4              0.35         0.20            13.9      0.054   \n",
       "\n",
       "   free sulfur dioxide  total sulfur dioxide  density    pH  sulphates  \\\n",
       "0                 24.0                 126.0  0.99420  3.26       0.38   \n",
       "1                 32.0                 133.0  0.99560  3.27       0.45   \n",
       "2                 38.0                 133.0  0.99212  3.18       0.44   \n",
       "3                 61.0                 183.0  0.99592  3.12       0.51   \n",
       "4                 63.0                 229.0  0.99888  3.11       0.50   \n",
       "\n",
       "   alcohol  wine_type  \n",
       "0     12.2          1  \n",
       "1      9.9          2  \n",
       "2     12.0          1  \n",
       "3      9.5          1  \n",
       "4      8.9          1  "
      ]
     },
     "execution_count": 4,
     "metadata": {},
     "output_type": "execute_result"
    }
   ],
   "source": [
    "wines[\"wine_type\"]=np.where(wines['wine_type']==\"white\",1,2)\n",
    "wines.head()"
   ]
  },
  {
   "cell_type": "markdown",
   "metadata": {},
   "source": [
    "**Particionar los datos en entrenamiento (75%) y prueba (25%)**"
   ]
  },
  {
   "cell_type": "code",
   "execution_count": 5,
   "metadata": {},
   "outputs": [],
   "source": [
    "X, y = wines.iloc[:, 0:11].values, wines.iloc[:, -1].values\n",
    "X_train, X_test, y_train, y_test =train_test_split(X, y,test_size=0.25,random_state=2021,stratify=y)"
   ]
  },
  {
   "cell_type": "markdown",
   "metadata": {},
   "source": [
    "## 2. Modelar el tipo de vino (wine_type) en función a las variables predictoras haciendo uso del modelo de regresión logístico. Considerar para las predicciones un punto de corte de 0.6"
   ]
  },
  {
   "cell_type": "code",
   "execution_count": 6,
   "metadata": {},
   "outputs": [
    {
     "name": "stdout",
     "output_type": "stream",
     "text": [
      "(6497, 12)\n"
     ]
    }
   ],
   "source": [
    "#VAMOS LA DIMENSIÓN DELOS DATOS\n",
    "print(wines.shape)"
   ]
  },
  {
   "cell_type": "code",
   "execution_count": 7,
   "metadata": {},
   "outputs": [
    {
     "data": {
      "text/plain": [
       "1    4898\n",
       "2    1599\n",
       "Name: wine_type, dtype: int64"
      ]
     },
     "execution_count": 7,
     "metadata": {},
     "output_type": "execute_result"
    }
   ],
   "source": [
    "#Frecuencia por Número de WINES_TYPE_1 antes de recodificación\n",
    "pd.value_counts(wines.wine_type,sort=True)"
   ]
  },
  {
   "cell_type": "markdown",
   "metadata": {},
   "source": [
    "**Balanceo de datos**"
   ]
  },
  {
   "cell_type": "code",
   "execution_count": 8,
   "metadata": {},
   "outputs": [],
   "source": [
    "#Instaciamos una clase SMOTETomek\n",
    "st=SMOTETomek(sampling_strategy=0.8,random_state=2021)"
   ]
  },
  {
   "cell_type": "code",
   "execution_count": 9,
   "metadata": {},
   "outputs": [],
   "source": [
    "#Aprendiendo los datos\n",
    "xtrain_st, ytrain_st= st.fit_resample(X_train,y_train)"
   ]
  },
  {
   "cell_type": "code",
   "execution_count": 10,
   "metadata": {
    "scrolled": false
   },
   "outputs": [
    {
     "data": {
      "text/html": [
       "<div>\n",
       "<style scoped>\n",
       "    .dataframe tbody tr th:only-of-type {\n",
       "        vertical-align: middle;\n",
       "    }\n",
       "\n",
       "    .dataframe tbody tr th {\n",
       "        vertical-align: top;\n",
       "    }\n",
       "\n",
       "    .dataframe thead th {\n",
       "        text-align: right;\n",
       "    }\n",
       "</style>\n",
       "<table border=\"1\" class=\"dataframe\">\n",
       "  <thead>\n",
       "    <tr style=\"text-align: right;\">\n",
       "      <th></th>\n",
       "      <th>fixed acidity</th>\n",
       "      <th>volatile acidity</th>\n",
       "      <th>citric acid</th>\n",
       "      <th>residual sugar</th>\n",
       "      <th>chlorides</th>\n",
       "      <th>free sulfur dioxide</th>\n",
       "      <th>total sulfur dioxide</th>\n",
       "      <th>density</th>\n",
       "      <th>pH</th>\n",
       "      <th>sulphates</th>\n",
       "      <th>alcohol</th>\n",
       "      <th>wine_type</th>\n",
       "    </tr>\n",
       "  </thead>\n",
       "  <tbody>\n",
       "    <tr>\n",
       "      <th>0</th>\n",
       "      <td>12.9</td>\n",
       "      <td>0.50</td>\n",
       "      <td>0.55</td>\n",
       "      <td>2.8</td>\n",
       "      <td>0.072</td>\n",
       "      <td>7.0</td>\n",
       "      <td>24.0</td>\n",
       "      <td>1.00012</td>\n",
       "      <td>3.09</td>\n",
       "      <td>0.68</td>\n",
       "      <td>10.9</td>\n",
       "      <td>2</td>\n",
       "    </tr>\n",
       "    <tr>\n",
       "      <th>1</th>\n",
       "      <td>7.4</td>\n",
       "      <td>0.36</td>\n",
       "      <td>0.33</td>\n",
       "      <td>1.4</td>\n",
       "      <td>0.025</td>\n",
       "      <td>27.0</td>\n",
       "      <td>55.0</td>\n",
       "      <td>0.99150</td>\n",
       "      <td>3.21</td>\n",
       "      <td>0.33</td>\n",
       "      <td>11.2</td>\n",
       "      <td>1</td>\n",
       "    </tr>\n",
       "    <tr>\n",
       "      <th>2</th>\n",
       "      <td>5.7</td>\n",
       "      <td>0.28</td>\n",
       "      <td>0.36</td>\n",
       "      <td>1.8</td>\n",
       "      <td>0.041</td>\n",
       "      <td>38.0</td>\n",
       "      <td>90.0</td>\n",
       "      <td>0.99002</td>\n",
       "      <td>3.27</td>\n",
       "      <td>0.98</td>\n",
       "      <td>11.9</td>\n",
       "      <td>1</td>\n",
       "    </tr>\n",
       "    <tr>\n",
       "      <th>3</th>\n",
       "      <td>6.3</td>\n",
       "      <td>0.22</td>\n",
       "      <td>0.34</td>\n",
       "      <td>5.0</td>\n",
       "      <td>0.032</td>\n",
       "      <td>36.0</td>\n",
       "      <td>93.0</td>\n",
       "      <td>0.99012</td>\n",
       "      <td>3.27</td>\n",
       "      <td>0.36</td>\n",
       "      <td>13.5</td>\n",
       "      <td>1</td>\n",
       "    </tr>\n",
       "    <tr>\n",
       "      <th>4</th>\n",
       "      <td>6.7</td>\n",
       "      <td>0.34</td>\n",
       "      <td>0.26</td>\n",
       "      <td>1.9</td>\n",
       "      <td>0.038</td>\n",
       "      <td>58.0</td>\n",
       "      <td>138.0</td>\n",
       "      <td>0.98930</td>\n",
       "      <td>3.00</td>\n",
       "      <td>0.47</td>\n",
       "      <td>12.2</td>\n",
       "      <td>1</td>\n",
       "    </tr>\n",
       "  </tbody>\n",
       "</table>\n",
       "</div>"
      ],
      "text/plain": [
       "   fixed acidity  volatile acidity  citric acid  residual sugar  chlorides  \\\n",
       "0           12.9              0.50         0.55             2.8      0.072   \n",
       "1            7.4              0.36         0.33             1.4      0.025   \n",
       "2            5.7              0.28         0.36             1.8      0.041   \n",
       "3            6.3              0.22         0.34             5.0      0.032   \n",
       "4            6.7              0.34         0.26             1.9      0.038   \n",
       "\n",
       "   free sulfur dioxide  total sulfur dioxide  density    pH  sulphates  \\\n",
       "0                  7.0                  24.0  1.00012  3.09       0.68   \n",
       "1                 27.0                  55.0  0.99150  3.21       0.33   \n",
       "2                 38.0                  90.0  0.99002  3.27       0.98   \n",
       "3                 36.0                  93.0  0.99012  3.27       0.36   \n",
       "4                 58.0                 138.0  0.98930  3.00       0.47   \n",
       "\n",
       "   alcohol  wine_type  \n",
       "0     10.9          2  \n",
       "1     11.2          1  \n",
       "2     11.9          1  \n",
       "3     13.5          1  \n",
       "4     12.2          1  "
      ]
     },
     "execution_count": 10,
     "metadata": {},
     "output_type": "execute_result"
    }
   ],
   "source": [
    "xtrain_st=pd.DataFrame(xtrain_st,columns=['fixed acidity','volatile acidity','citric acid','residual sugar','chlorides',\n",
    "                                           'free sulfur dioxide','total sulfur dioxide','density','pH','sulphates','alcohol'])\n",
    "ytrain_st=pd.DataFrame(ytrain_st,columns=['wine_type'])\n",
    "\n",
    "wines_entrenamiento_st=pd.concat([xtrain_st,ytrain_st],axis=1)\n",
    "wines_entrenamiento_st.head()"
   ]
  },
  {
   "cell_type": "code",
   "execution_count": 11,
   "metadata": {
    "scrolled": true
   },
   "outputs": [
    {
     "data": {
      "image/png": "[encoded data removed]",
      "text/plain": [
       "<Figure size 432x288 with 1 Axes>"
      ]
     },
     "metadata": {},
     "output_type": "display_data"
    }
   ],
   "source": [
    "#Visualizando el balanceo de las categorías\n",
    "count_classes=pd.value_counts(wines_entrenamiento_st['wine_type'],sort=True)\n",
    "with plt.style.context('dark_background'):\n",
    "    count_classes.plot(kind='bar',rot=0,color=colores)\n",
    "plt.title('Frecuencia de las categorías de target',weight='bold',color='red')\n",
    "plt.xlabel('Tipo de Vino',weight='bold',color=colores[1])\n",
    "plt.ylabel('Número de Observaciones',weight='bold',color=colores[2])\n",
    "plt.show()"
   ]
  },
  {
   "cell_type": "code",
   "execution_count": 12,
   "metadata": {},
   "outputs": [
    {
     "data": {
      "text/plain": [
       "1    3650\n",
       "2    2915\n",
       "Name: wine_type, dtype: int64"
      ]
     },
     "execution_count": 12,
     "metadata": {},
     "output_type": "execute_result"
    }
   ],
   "source": [
    "#Frecuencia por Número de WINES_TYPE_1 DESPUES DEL BALANCEO\n",
    "pd.value_counts(wines_entrenamiento_st.wine_type,sort=True)"
   ]
  },
  {
   "cell_type": "code",
   "execution_count": 13,
   "metadata": {},
   "outputs": [
    {
     "data": {
      "text/plain": [
       "0.799"
      ]
     },
     "execution_count": 13,
     "metadata": {},
     "output_type": "execute_result"
    }
   ],
   "source": [
    "#Proporción Final de Balanceo\n",
    "proporcion=(count_classes[2]/count_classes[1]).round(3)\n",
    "proporcion"
   ]
  },
  {
   "cell_type": "markdown",
   "metadata": {},
   "source": [
    "### _Regresión Logística_"
   ]
  },
  {
   "cell_type": "code",
   "execution_count": 14,
   "metadata": {
    "id": "LSR9txpXY3bv"
   },
   "outputs": [],
   "source": [
    "#Crear un objeto de clase LogisticRegression()\n",
    "logit_model=LogisticRegression()"
   ]
  },
  {
   "cell_type": "code",
   "execution_count": 15,
   "metadata": {
    "id": "UJem42lwY3bv",
    "outputId": "c5f18ff6-fb43-4735-96bc-a469d58a3e19",
    "scrolled": true
   },
   "outputs": [
    {
     "data": {
      "text/plain": [
       "LogisticRegression()"
      ]
     },
     "execution_count": 15,
     "metadata": {},
     "output_type": "execute_result"
    }
   ],
   "source": [
    "#Ajustamos el modelo a los datos balanceados (x_entel trabaja con 2 y x_train_st con las 3)\n",
    "logit_model.fit(xtrain_st,ytrain_st)"
   ]
  },
  {
   "cell_type": "markdown",
   "metadata": {
    "id": "VRQaKph7Y3bw"
   },
   "source": [
    "#### _Problema del Ajuste del Modelo_"
   ]
  },
  {
   "cell_type": "code",
   "execution_count": 16,
   "metadata": {
    "id": "ce0Wm2KdY3bw",
    "outputId": "f8b33092-6026-4576-c07f-9c906da532dc"
   },
   "outputs": [
    {
     "data": {
      "text/plain": [
       "0.978"
      ]
     },
     "execution_count": 16,
     "metadata": {},
     "output_type": "execute_result"
    }
   ],
   "source": [
    "#Entrenamiento\n",
    "logit_model.score(xtrain_st,ytrain_st).round(3) "
   ]
  },
  {
   "cell_type": "code",
   "execution_count": 17,
   "metadata": {
    "id": "dqf_pJx3Y3bw",
    "outputId": "a354398a-ba59-42f1-b894-af5eca950e09"
   },
   "outputs": [
    {
     "data": {
      "text/plain": [
       "0.981"
      ]
     },
     "execution_count": 17,
     "metadata": {},
     "output_type": "execute_result"
    }
   ],
   "source": [
    "#Testeo\n",
    "logit_model.score(X_test,y_test).round(3) "
   ]
  },
  {
   "cell_type": "markdown",
   "metadata": {
    "id": "a0s7BbxlY3b0"
   },
   "source": [
    "#### _Problema del Punto de Corte_"
   ]
  },
  {
   "cell_type": "code",
   "execution_count": 18,
   "metadata": {
    "id": "3Z0MYBs_Y3b1",
    "outputId": "7891bf1b-4704-4e5d-c5d8-bd5b14a72c89"
   },
   "outputs": [
    {
     "name": "stdout",
     "output_type": "stream",
     "text": [
      "Prediciendo la data de entrenamiento:\n",
      " [2 1 2 ... 1 2 2]\n"
     ]
    }
   ],
   "source": [
    "prob_train_cat_logistica=logit_model.predict(xtrain_st)\n",
    "print(\"Prediciendo la data de entrenamiento:\\n\",prob_train_cat_logistica)"
   ]
  },
  {
   "cell_type": "code",
   "execution_count": 19,
   "metadata": {
    "id": "_g1rMuiLY3b1",
    "outputId": "f76478f0-d6d5-4785-9136-b12a5f77516a"
   },
   "outputs": [
    {
     "name": "stdout",
     "output_type": "stream",
     "text": [
      "Prediciendo la probabilidad de la data de entrenamiento:\n",
      " [[0.    1.   ]\n",
      " [0.608 0.392]\n",
      " [0.344 0.656]\n",
      " ...\n",
      " [0.973 0.027]\n",
      " [0.001 0.999]\n",
      " [0.029 0.971]]\n"
     ]
    }
   ],
   "source": [
    "prob_train_logistica=logit_model.predict_proba(xtrain_st).round(3)\n",
    "print(\"Prediciendo la probabilidad de la data de entrenamiento:\\n\",prob_train_logistica)"
   ]
  },
  {
   "cell_type": "code",
   "execution_count": 20,
   "metadata": {
    "id": "k994hFe4Y3b2",
    "outputId": "a3bb4522-0a11-4f68-f1e2-5d23641987d5"
   },
   "outputs": [
    {
     "name": "stdout",
     "output_type": "stream",
     "text": [
      "Selecionando las probabilidades de que Y=1 de la data de entrenamiento:\n",
      " [1.    0.392 0.656 ... 0.027 0.999 0.971]\n"
     ]
    }
   ],
   "source": [
    "#Selecciono las probabilidades de que Y=1\n",
    "prob_logistica=prob_train_logistica[:,1].round(3)\n",
    "print(\"Selecionando las probabilidades de que Y=1 de la data de entrenamiento:\\n\",prob_logistica)"
   ]
  },
  {
   "cell_type": "code",
   "execution_count": 21,
   "metadata": {
    "id": "zn2HoNUpY3b2",
    "outputId": "1c5df6fc-fb7c-48ad-94ac-211b5533275b"
   },
   "outputs": [
    {
     "data": {
      "text/html": [
       "<div>\n",
       "<style scoped>\n",
       "    .dataframe tbody tr th:only-of-type {\n",
       "        vertical-align: middle;\n",
       "    }\n",
       "\n",
       "    .dataframe tbody tr th {\n",
       "        vertical-align: top;\n",
       "    }\n",
       "\n",
       "    .dataframe thead th {\n",
       "        text-align: right;\n",
       "    }\n",
       "</style>\n",
       "<table border=\"1\" class=\"dataframe\">\n",
       "  <thead>\n",
       "    <tr style=\"text-align: right;\">\n",
       "      <th></th>\n",
       "      <th>prob y=1</th>\n",
       "    </tr>\n",
       "  </thead>\n",
       "  <tbody>\n",
       "    <tr>\n",
       "      <th>0</th>\n",
       "      <td>1.000</td>\n",
       "    </tr>\n",
       "    <tr>\n",
       "      <th>1</th>\n",
       "      <td>0.392</td>\n",
       "    </tr>\n",
       "    <tr>\n",
       "      <th>2</th>\n",
       "      <td>0.656</td>\n",
       "    </tr>\n",
       "    <tr>\n",
       "      <th>3</th>\n",
       "      <td>0.001</td>\n",
       "    </tr>\n",
       "    <tr>\n",
       "      <th>4</th>\n",
       "      <td>0.007</td>\n",
       "    </tr>\n",
       "    <tr>\n",
       "      <th>5</th>\n",
       "      <td>0.999</td>\n",
       "    </tr>\n",
       "    <tr>\n",
       "      <th>6</th>\n",
       "      <td>0.001</td>\n",
       "    </tr>\n",
       "    <tr>\n",
       "      <th>7</th>\n",
       "      <td>0.000</td>\n",
       "    </tr>\n",
       "    <tr>\n",
       "      <th>8</th>\n",
       "      <td>0.836</td>\n",
       "    </tr>\n",
       "    <tr>\n",
       "      <th>9</th>\n",
       "      <td>0.049</td>\n",
       "    </tr>\n",
       "  </tbody>\n",
       "</table>\n",
       "</div>"
      ],
      "text/plain": [
       "   prob y=1\n",
       "0     1.000\n",
       "1     0.392\n",
       "2     0.656\n",
       "3     0.001\n",
       "4     0.007\n",
       "5     0.999\n",
       "6     0.001\n",
       "7     0.000\n",
       "8     0.836\n",
       "9     0.049"
      ]
     },
     "execution_count": 21,
     "metadata": {},
     "output_type": "execute_result"
    }
   ],
   "source": [
    "prob_wines_train_logistica=pd.DataFrame(prob_logistica,columns=['prob y=1'])\n",
    "prob_wines_train_logistica.head(10)"
   ]
  },
  {
   "cell_type": "markdown",
   "metadata": {},
   "source": [
    "**Ajustando el punto de corte**"
   ]
  },
  {
   "cell_type": "code",
   "execution_count": 22,
   "metadata": {
    "id": "t0Aax0g5Y3b2"
   },
   "outputs": [],
   "source": [
    "#Fijamos un punto de corte\n",
    "punto_corte=0.6"
   ]
  },
  {
   "cell_type": "code",
   "execution_count": 23,
   "metadata": {
    "id": "LYw12uiGY3b2",
    "outputId": "36df0e39-96ba-4e23-e96e-e38a6bf6af7d",
    "scrolled": false
   },
   "outputs": [
    {
     "data": {
      "text/html": [
       "<div>\n",
       "<style scoped>\n",
       "    .dataframe tbody tr th:only-of-type {\n",
       "        vertical-align: middle;\n",
       "    }\n",
       "\n",
       "    .dataframe tbody tr th {\n",
       "        vertical-align: top;\n",
       "    }\n",
       "\n",
       "    .dataframe thead th {\n",
       "        text-align: right;\n",
       "    }\n",
       "</style>\n",
       "<table border=\"1\" class=\"dataframe\">\n",
       "  <thead>\n",
       "    <tr style=\"text-align: right;\">\n",
       "      <th></th>\n",
       "      <th>prob y=1</th>\n",
       "      <th>prediccion</th>\n",
       "    </tr>\n",
       "  </thead>\n",
       "  <tbody>\n",
       "    <tr>\n",
       "      <th>0</th>\n",
       "      <td>1.000</td>\n",
       "      <td>2</td>\n",
       "    </tr>\n",
       "    <tr>\n",
       "      <th>1</th>\n",
       "      <td>0.392</td>\n",
       "      <td>1</td>\n",
       "    </tr>\n",
       "    <tr>\n",
       "      <th>2</th>\n",
       "      <td>0.656</td>\n",
       "      <td>2</td>\n",
       "    </tr>\n",
       "    <tr>\n",
       "      <th>3</th>\n",
       "      <td>0.001</td>\n",
       "      <td>1</td>\n",
       "    </tr>\n",
       "    <tr>\n",
       "      <th>4</th>\n",
       "      <td>0.007</td>\n",
       "      <td>1</td>\n",
       "    </tr>\n",
       "    <tr>\n",
       "      <th>5</th>\n",
       "      <td>0.999</td>\n",
       "      <td>2</td>\n",
       "    </tr>\n",
       "    <tr>\n",
       "      <th>6</th>\n",
       "      <td>0.001</td>\n",
       "      <td>1</td>\n",
       "    </tr>\n",
       "    <tr>\n",
       "      <th>7</th>\n",
       "      <td>0.000</td>\n",
       "      <td>1</td>\n",
       "    </tr>\n",
       "    <tr>\n",
       "      <th>8</th>\n",
       "      <td>0.836</td>\n",
       "      <td>2</td>\n",
       "    </tr>\n",
       "    <tr>\n",
       "      <th>9</th>\n",
       "      <td>0.049</td>\n",
       "      <td>1</td>\n",
       "    </tr>\n",
       "  </tbody>\n",
       "</table>\n",
       "</div>"
      ],
      "text/plain": [
       "   prob y=1  prediccion\n",
       "0     1.000           2\n",
       "1     0.392           1\n",
       "2     0.656           2\n",
       "3     0.001           1\n",
       "4     0.007           1\n",
       "5     0.999           2\n",
       "6     0.001           1\n",
       "7     0.000           1\n",
       "8     0.836           2\n",
       "9     0.049           1"
      ]
     },
     "execution_count": 23,
     "metadata": {},
     "output_type": "execute_result"
    }
   ],
   "source": [
    "#Agregando una nueva columna con las categorías predichas con el nuevo punto de corte\n",
    "prob_wines_train_logistica[\"prediccion\"]=np.where(prob_wines_train_logistica['prob y=1']>punto_corte,2,1)\n",
    "prob_wines_train_logistica.head(10)"
   ]
  },
  {
   "cell_type": "code",
   "execution_count": 24,
   "metadata": {},
   "outputs": [
    {
     "name": "stdout",
     "output_type": "stream",
     "text": [
      "La cantidad de observaciones para la data de entrenamiento es: 6565\n"
     ]
    }
   ],
   "source": [
    "print(\"La cantidad de observaciones para la data de entrenamiento es:\",prob_wines_train_logistica.shape[0])"
   ]
  },
  {
   "cell_type": "markdown",
   "metadata": {},
   "source": [
    "## 3. Aplicar los parámetros del modelo de entrenamiento a los datos de testeo, considerar para las predicciones un punto de corte de 0.6"
   ]
  },
  {
   "cell_type": "code",
   "execution_count": 25,
   "metadata": {
    "id": "R2IJT95XY3b4",
    "outputId": "d49328d6-2094-4ffb-c974-686216628d73"
   },
   "outputs": [
    {
     "name": "stdout",
     "output_type": "stream",
     "text": [
      "La probabilidad de la data de testeo:\n",
      " [0.001 1.    0.004 ... 0.007 1.    0.004]\n"
     ]
    }
   ],
   "source": [
    "prob_test_logistica=logit_model.predict_proba(X_test)\n",
    "prob2_logistica=prob_test_logistica[:,1].round(3)\n",
    "print(\"La probabilidad de la data de testeo:\\n\",prob2_logistica)"
   ]
  },
  {
   "cell_type": "code",
   "execution_count": 26,
   "metadata": {
    "id": "0winh_sPY3b4",
    "outputId": "98f5deea-1acb-40ed-9337-93f1ec774954"
   },
   "outputs": [
    {
     "data": {
      "text/html": [
       "<div>\n",
       "<style scoped>\n",
       "    .dataframe tbody tr th:only-of-type {\n",
       "        vertical-align: middle;\n",
       "    }\n",
       "\n",
       "    .dataframe tbody tr th {\n",
       "        vertical-align: top;\n",
       "    }\n",
       "\n",
       "    .dataframe thead th {\n",
       "        text-align: right;\n",
       "    }\n",
       "</style>\n",
       "<table border=\"1\" class=\"dataframe\">\n",
       "  <thead>\n",
       "    <tr style=\"text-align: right;\">\n",
       "      <th></th>\n",
       "      <th>prob y=1</th>\n",
       "    </tr>\n",
       "  </thead>\n",
       "  <tbody>\n",
       "    <tr>\n",
       "      <th>0</th>\n",
       "      <td>0.001</td>\n",
       "    </tr>\n",
       "    <tr>\n",
       "      <th>1</th>\n",
       "      <td>1.000</td>\n",
       "    </tr>\n",
       "    <tr>\n",
       "      <th>2</th>\n",
       "      <td>0.004</td>\n",
       "    </tr>\n",
       "    <tr>\n",
       "      <th>3</th>\n",
       "      <td>0.022</td>\n",
       "    </tr>\n",
       "    <tr>\n",
       "      <th>4</th>\n",
       "      <td>0.000</td>\n",
       "    </tr>\n",
       "    <tr>\n",
       "      <th>5</th>\n",
       "      <td>0.004</td>\n",
       "    </tr>\n",
       "    <tr>\n",
       "      <th>6</th>\n",
       "      <td>0.005</td>\n",
       "    </tr>\n",
       "    <tr>\n",
       "      <th>7</th>\n",
       "      <td>0.835</td>\n",
       "    </tr>\n",
       "    <tr>\n",
       "      <th>8</th>\n",
       "      <td>0.010</td>\n",
       "    </tr>\n",
       "    <tr>\n",
       "      <th>9</th>\n",
       "      <td>0.016</td>\n",
       "    </tr>\n",
       "  </tbody>\n",
       "</table>\n",
       "</div>"
      ],
      "text/plain": [
       "   prob y=1\n",
       "0     0.001\n",
       "1     1.000\n",
       "2     0.004\n",
       "3     0.022\n",
       "4     0.000\n",
       "5     0.004\n",
       "6     0.005\n",
       "7     0.835\n",
       "8     0.010\n",
       "9     0.016"
      ]
     },
     "execution_count": 26,
     "metadata": {},
     "output_type": "execute_result"
    }
   ],
   "source": [
    "prob_wines_test_logistica=pd.DataFrame(prob2_logistica,columns=['prob y=1'])\n",
    "prob_wines_test_logistica.head(10)"
   ]
  },
  {
   "cell_type": "code",
   "execution_count": 27,
   "metadata": {
    "id": "uXBJiw6hY3b5",
    "outputId": "ca674149-c464-474e-bbcd-c460ffc1e589",
    "scrolled": true
   },
   "outputs": [
    {
     "data": {
      "text/html": [
       "<div>\n",
       "<style scoped>\n",
       "    .dataframe tbody tr th:only-of-type {\n",
       "        vertical-align: middle;\n",
       "    }\n",
       "\n",
       "    .dataframe tbody tr th {\n",
       "        vertical-align: top;\n",
       "    }\n",
       "\n",
       "    .dataframe thead th {\n",
       "        text-align: right;\n",
       "    }\n",
       "</style>\n",
       "<table border=\"1\" class=\"dataframe\">\n",
       "  <thead>\n",
       "    <tr style=\"text-align: right;\">\n",
       "      <th></th>\n",
       "      <th>prob y=1</th>\n",
       "      <th>prediccion</th>\n",
       "    </tr>\n",
       "  </thead>\n",
       "  <tbody>\n",
       "    <tr>\n",
       "      <th>0</th>\n",
       "      <td>0.001</td>\n",
       "      <td>1</td>\n",
       "    </tr>\n",
       "    <tr>\n",
       "      <th>1</th>\n",
       "      <td>1.000</td>\n",
       "      <td>2</td>\n",
       "    </tr>\n",
       "    <tr>\n",
       "      <th>2</th>\n",
       "      <td>0.004</td>\n",
       "      <td>1</td>\n",
       "    </tr>\n",
       "    <tr>\n",
       "      <th>3</th>\n",
       "      <td>0.022</td>\n",
       "      <td>1</td>\n",
       "    </tr>\n",
       "    <tr>\n",
       "      <th>4</th>\n",
       "      <td>0.000</td>\n",
       "      <td>1</td>\n",
       "    </tr>\n",
       "    <tr>\n",
       "      <th>5</th>\n",
       "      <td>0.004</td>\n",
       "      <td>1</td>\n",
       "    </tr>\n",
       "    <tr>\n",
       "      <th>6</th>\n",
       "      <td>0.005</td>\n",
       "      <td>1</td>\n",
       "    </tr>\n",
       "    <tr>\n",
       "      <th>7</th>\n",
       "      <td>0.835</td>\n",
       "      <td>2</td>\n",
       "    </tr>\n",
       "    <tr>\n",
       "      <th>8</th>\n",
       "      <td>0.010</td>\n",
       "      <td>1</td>\n",
       "    </tr>\n",
       "    <tr>\n",
       "      <th>9</th>\n",
       "      <td>0.016</td>\n",
       "      <td>1</td>\n",
       "    </tr>\n",
       "  </tbody>\n",
       "</table>\n",
       "</div>"
      ],
      "text/plain": [
       "   prob y=1  prediccion\n",
       "0     0.001           1\n",
       "1     1.000           2\n",
       "2     0.004           1\n",
       "3     0.022           1\n",
       "4     0.000           1\n",
       "5     0.004           1\n",
       "6     0.005           1\n",
       "7     0.835           2\n",
       "8     0.010           1\n",
       "9     0.016           1"
      ]
     },
     "execution_count": 27,
     "metadata": {},
     "output_type": "execute_result"
    }
   ],
   "source": [
    "prob_wines_test_logistica['prediccion']=np.where(prob_wines_test_logistica[\"prob y=1\"]>punto_corte,2,1)\n",
    "prob_wines_test_logistica.head(10)"
   ]
  },
  {
   "cell_type": "code",
   "execution_count": 28,
   "metadata": {
    "scrolled": true
   },
   "outputs": [
    {
     "name": "stdout",
     "output_type": "stream",
     "text": [
      "La cantidad de observaciones para la data de testeo es: 1625\n"
     ]
    }
   ],
   "source": [
    "print(\"La cantidad de observaciones para la data de testeo es:\",prob_wines_test_logistica.shape[0])"
   ]
  },
  {
   "cell_type": "markdown",
   "metadata": {},
   "source": [
    "## 4. Evaluar el modelo de regresión logístico haciendo uso de las métricas de accuracy, sensibilidad. especificidad, auc y curva ROC."
   ]
  },
  {
   "cell_type": "markdown",
   "metadata": {
    "id": "TRI5TfRzY3bx"
   },
   "source": [
    "#### _Problema de la Variación Interna de los Datos_"
   ]
  },
  {
   "cell_type": "code",
   "execution_count": 29,
   "metadata": {
    "id": "TC8ORXSSY3bx",
    "outputId": "9fbdea57-1eca-4739-cc04-7ca9b5deeb66"
   },
   "outputs": [
    {
     "name": "stdout",
     "output_type": "stream",
     "text": [
      "[0.971 0.973 0.988 0.988 0.977 0.976 0.982 0.982 0.98  0.974]\n"
     ]
    }
   ],
   "source": [
    "scores_logistica= cross_val_score(estimator=logit_model, #Modelo\n",
    "                   X=xtrain_st, #Matriz de Datos\n",
    "                   y=ytrain_st, #Variable Target\n",
    "                   scoring='accuracy', #Métrica a evaluar\n",
    "                   cv=10) #Número de particiones\n",
    "print(scores_logistica.round(3))"
   ]
  },
  {
   "cell_type": "code",
   "execution_count": 30,
   "metadata": {
    "id": "Bb5hoNZSY3bz",
    "outputId": "7a55df3e-6a93-4ad6-aa07-8d4868ce488d"
   },
   "outputs": [
    {
     "data": {
      "text/plain": [
       "0.979"
      ]
     },
     "execution_count": 30,
     "metadata": {},
     "output_type": "execute_result"
    }
   ],
   "source": [
    "scores_logistica.mean().round(3)"
   ]
  },
  {
   "cell_type": "code",
   "execution_count": 31,
   "metadata": {
    "id": "mTJld_dJY3b0",
    "outputId": "e54e69a1-c510-40e3-c023-d48b323bc974"
   },
   "outputs": [
    {
     "data": {
      "image/png": "[encoded data removed]",
      "text/plain": [
       "<Figure size 432x288 with 1 Axes>"
      ]
     },
     "metadata": {},
     "output_type": "display_data"
    }
   ],
   "source": [
    "#Analizando visualmente la estabilidad de la métrica\n",
    "with plt.style.context('dark_background'):\n",
    "    plt.plot(range(0,10),scores_logistica,color=\"yellow\")\n",
    "    plt.title('Estabilidad del Accuracy-REGRESIÓN LOGÍSTICA',weight='bold',color='red')\n",
    "    plt.ylabel('Accuracy Score',weight='bold',color=colores[1])\n",
    "    plt.axhline(y=scores_logistica.mean(),color=colores[2]) #Línea referencial\n",
    "    plt.ylim([0.9,1]) #Modificando los límites del eje Y\n",
    "plt.show()"
   ]
  },
  {
   "cell_type": "code",
   "execution_count": 32,
   "metadata": {
    "id": "_8_LelRrY3b3",
    "outputId": "6deb18b3-e800-4ffa-d0f9-e888490db214"
   },
   "outputs": [
    {
     "name": "stdout",
     "output_type": "stream",
     "text": [
      "Evaluando el Accuracy con el punto de corte por defecto: 0.978\n"
     ]
    }
   ],
   "source": [
    "#Evaluando el Accuracy con el punto de corte por defecto \n",
    "print(\"Evaluando el Accuracy con el punto de corte por defecto:\",accuracy_score(y_true=ytrain_st,y_pred=prob_train_cat_logistica).round(3))"
   ]
  },
  {
   "cell_type": "code",
   "execution_count": 33,
   "metadata": {
    "id": "PD0Mix0JY3b3",
    "outputId": "228cf9d9-ea52-4b9d-cd98-44137e587ecc"
   },
   "outputs": [
    {
     "name": "stdout",
     "output_type": "stream",
     "text": [
      "Evaluando el Accuracy con el punto de corte propuesto por nosotros: 0.979\n"
     ]
    }
   ],
   "source": [
    "#Evaluando el Accuracy con el punto de corte propuesto por nosotros\n",
    "print(\"Evaluando el Accuracy con el punto de corte propuesto por nosotros:\",accuracy_score(y_true=ytrain_st,y_pred=prob_wines_train_logistica[\"prediccion\"]).round(3))"
   ]
  },
  {
   "cell_type": "markdown",
   "metadata": {
    "id": "yH0CmOWsY3b5"
   },
   "source": [
    "### _Matriz de Confusión para Data de Entrenamiento_"
   ]
  },
  {
   "cell_type": "code",
   "execution_count": 34,
   "metadata": {
    "id": "jNx-ExKQY3b6",
    "outputId": "de74284c-dcbb-4f68-d516-939d05793d0a"
   },
   "outputs": [
    {
     "data": {
      "text/html": [
       "<div>\n",
       "<style scoped>\n",
       "    .dataframe tbody tr th:only-of-type {\n",
       "        vertical-align: middle;\n",
       "    }\n",
       "\n",
       "    .dataframe tbody tr th {\n",
       "        vertical-align: top;\n",
       "    }\n",
       "\n",
       "    .dataframe thead th {\n",
       "        text-align: right;\n",
       "    }\n",
       "</style>\n",
       "<table border=\"1\" class=\"dataframe\">\n",
       "  <thead>\n",
       "    <tr style=\"text-align: right;\">\n",
       "      <th>prediccion</th>\n",
       "      <th>1</th>\n",
       "      <th>2</th>\n",
       "    </tr>\n",
       "    <tr>\n",
       "      <th>row_0</th>\n",
       "      <th></th>\n",
       "      <th></th>\n",
       "    </tr>\n",
       "  </thead>\n",
       "  <tbody>\n",
       "    <tr>\n",
       "      <th>1</th>\n",
       "      <td>3611</td>\n",
       "      <td>39</td>\n",
       "    </tr>\n",
       "    <tr>\n",
       "      <th>2</th>\n",
       "      <td>102</td>\n",
       "      <td>2813</td>\n",
       "    </tr>\n",
       "  </tbody>\n",
       "</table>\n",
       "</div>"
      ],
      "text/plain": [
       "prediccion     1     2\n",
       "row_0                 \n",
       "1           3611    39\n",
       "2            102  2813"
      ]
     },
     "execution_count": 34,
     "metadata": {},
     "output_type": "execute_result"
    }
   ],
   "source": [
    "xtrain_st, ytrain_st= st.fit_resample(X_train,y_train)\n",
    "cm_train=pd.crosstab(ytrain_st,prob_wines_train_logistica[\"prediccion\"])\n",
    "cm_train"
   ]
  },
  {
   "cell_type": "code",
   "execution_count": 35,
   "metadata": {
    "id": "CpJkRvUJY3b6"
   },
   "outputs": [],
   "source": [
    "VP_train=cm_train[2][2]\n",
    "VN_train=cm_train[1][1]\n",
    "FP_train=cm_train[2][1]\n",
    "FN_train=cm_train[1][2]"
   ]
  },
  {
   "cell_type": "code",
   "execution_count": 36,
   "metadata": {
    "id": "zxFDzvalY3b6",
    "outputId": "33d4caff-532b-43a3-909b-6c832d4e5be9"
   },
   "outputs": [
    {
     "name": "stdout",
     "output_type": "stream",
     "text": [
      "La sensibilidad de la data de entrenamiendo según el modelo de Regresión logística es: 0.965\n"
     ]
    }
   ],
   "source": [
    "sensibilidad_train_logistica= (VP_train/(VP_train+FN_train)).round(3)\n",
    "print(\"La sensibilidad de la data de entrenamiendo según el modelo de Regresión logística es:\",sensibilidad_train_logistica)"
   ]
  },
  {
   "cell_type": "code",
   "execution_count": 37,
   "metadata": {
    "id": "C4pszigSY3b7",
    "outputId": "284ca7f2-497e-4f15-c49c-61b88c90dc45"
   },
   "outputs": [
    {
     "name": "stdout",
     "output_type": "stream",
     "text": [
      "La especificidad de la data de entrenamiendo según el modelo de Regresión logística es: 0.989\n"
     ]
    }
   ],
   "source": [
    "especificidad_train_logistica= (VN_train/(VN_train+FP_train)).round(3)\n",
    "print(\"La especificidad de la data de entrenamiendo según el modelo de Regresión logística es:\",especificidad_train_logistica)"
   ]
  },
  {
   "cell_type": "code",
   "execution_count": 38,
   "metadata": {
    "id": "GJsK__OOY3b7",
    "outputId": "d6b64046-12f8-47f3-9c84-15dccf410f49"
   },
   "outputs": [
    {
     "name": "stdout",
     "output_type": "stream",
     "text": [
      "Calculando: 1-(especifidad)= 0.011\n"
     ]
    }
   ],
   "source": [
    "esp_1_logistica= (1-especificidad_train_logistica).round(3)\n",
    "print(\"Calculando: 1-(especifidad)=\",esp_1_logistica)"
   ]
  },
  {
   "cell_type": "code",
   "execution_count": 39,
   "metadata": {
    "id": "Vm1ew4Q3Y3b8",
    "outputId": "c380edbb-ae7e-45de-be4a-138c860c651b"
   },
   "outputs": [
    {
     "data": {
      "image/png": "[encoded data removed]",
      "text/plain": [
       "<Figure size 432x288 with 1 Axes>"
      ]
     },
     "metadata": {},
     "output_type": "display_data"
    }
   ],
   "source": [
    "with plt.style.context('dark_background'):\n",
    "    plt.plot(esp_1_logistica,sensibilidad_train_logistica, marker='o',color=colores[1])\n",
    "    x=[i*0.01 for i in range(100)]\n",
    "    y=[i*0.01 for i in range(100)]\n",
    "    plt.plot(x,y)\n",
    "    plt.xlabel(\"1 - Especificidad\",weight='bold')\n",
    "    plt.ylabel(\"Sensibilidad\",weight='bold')\n",
    "plt.title(\"Curva ROC-Data de Entrenamiento\",weight='bold',color='red')\n",
    "plt.show()"
   ]
  },
  {
   "cell_type": "markdown",
   "metadata": {
    "id": "3Moo9i45Y3b8"
   },
   "source": [
    "### _Matriz de Confusión para Data de Testeo_"
   ]
  },
  {
   "cell_type": "code",
   "execution_count": 40,
   "metadata": {
    "id": "VmdGk9vXY3b8",
    "outputId": "607dd9a9-babe-48be-94c8-1619538622b6"
   },
   "outputs": [
    {
     "data": {
      "text/html": [
       "<div>\n",
       "<style scoped>\n",
       "    .dataframe tbody tr th:only-of-type {\n",
       "        vertical-align: middle;\n",
       "    }\n",
       "\n",
       "    .dataframe tbody tr th {\n",
       "        vertical-align: top;\n",
       "    }\n",
       "\n",
       "    .dataframe thead th {\n",
       "        text-align: right;\n",
       "    }\n",
       "</style>\n",
       "<table border=\"1\" class=\"dataframe\">\n",
       "  <thead>\n",
       "    <tr style=\"text-align: right;\">\n",
       "      <th>prediccion</th>\n",
       "      <th>1</th>\n",
       "      <th>2</th>\n",
       "    </tr>\n",
       "    <tr>\n",
       "      <th>row_0</th>\n",
       "      <th></th>\n",
       "      <th></th>\n",
       "    </tr>\n",
       "  </thead>\n",
       "  <tbody>\n",
       "    <tr>\n",
       "      <th>1</th>\n",
       "      <td>1206</td>\n",
       "      <td>19</td>\n",
       "    </tr>\n",
       "    <tr>\n",
       "      <th>2</th>\n",
       "      <td>15</td>\n",
       "      <td>385</td>\n",
       "    </tr>\n",
       "  </tbody>\n",
       "</table>\n",
       "</div>"
      ],
      "text/plain": [
       "prediccion     1    2\n",
       "row_0                \n",
       "1           1206   19\n",
       "2             15  385"
      ]
     },
     "execution_count": 40,
     "metadata": {},
     "output_type": "execute_result"
    }
   ],
   "source": [
    "cm_test=pd.crosstab(y_test,prob_wines_test_logistica[\"prediccion\"])\n",
    "cm_test"
   ]
  },
  {
   "cell_type": "code",
   "execution_count": 41,
   "metadata": {
    "id": "y7qrICmJY3b9"
   },
   "outputs": [],
   "source": [
    "VP_test=cm_test[2][2]\n",
    "VN_test=cm_test[1][1]\n",
    "FP_test=cm_test[2][1]\n",
    "FN_test=cm_test[1][2]"
   ]
  },
  {
   "cell_type": "code",
   "execution_count": 42,
   "metadata": {
    "id": "p9Babc2CY3b9",
    "outputId": "521906bc-bf4d-4d5a-a81e-1207c33d23dd"
   },
   "outputs": [
    {
     "name": "stdout",
     "output_type": "stream",
     "text": [
      "La sensibilidad de la data de testeo según el modelo de Regresión logística es: 0.9625\n"
     ]
    }
   ],
   "source": [
    "sensiblidad_test_logistica= VP_test/(VP_test+FN_test)\n",
    "print(\"La sensibilidad de la data de testeo según el modelo de Regresión logística es:\",sensiblidad_test_logistica)"
   ]
  },
  {
   "cell_type": "code",
   "execution_count": 43,
   "metadata": {
    "id": "LcUaObSSY3b9",
    "outputId": "8d2c4622-ac77-489e-95de-1852a19a58eb"
   },
   "outputs": [
    {
     "name": "stdout",
     "output_type": "stream",
     "text": [
      "La especificidad de la data de testeo según el modelo de Regresión logística es: 0.984\n"
     ]
    }
   ],
   "source": [
    "especificidad_test_logistica= (VN_test/(VN_test+FP_test)).round(3)\n",
    "print(\"La especificidad de la data de testeo según el modelo de Regresión logística es:\",especificidad_test_logistica)"
   ]
  },
  {
   "cell_type": "code",
   "execution_count": 44,
   "metadata": {},
   "outputs": [
    {
     "name": "stdout",
     "output_type": "stream",
     "text": [
      "Calculando: 1-(especifidad)= 0.016\n"
     ]
    }
   ],
   "source": [
    "esp_2_logistica= (1-especificidad_test_logistica).round(3)\n",
    "print(\"Calculando: 1-(especifidad)=\",esp_2_logistica)"
   ]
  },
  {
   "cell_type": "code",
   "execution_count": 45,
   "metadata": {},
   "outputs": [
    {
     "data": {
      "image/png": "[encoded data removed]",
      "text/plain": [
       "<Figure size 432x288 with 1 Axes>"
      ]
     },
     "metadata": {},
     "output_type": "display_data"
    }
   ],
   "source": [
    "with plt.style.context('dark_background'):\n",
    "    plt.plot(esp_2_logistica,sensiblidad_test_logistica, marker='o',color=colores[1])\n",
    "    x=[i*0.01 for i in range(100)]\n",
    "    y=[i*0.01 for i in range(100)]\n",
    "    plt.plot(x,y)\n",
    "    plt.xlabel(\"1 - Especificidad\",weight='bold')\n",
    "    plt.ylabel(\"Sensibilidad\",weight='bold')\n",
    "plt.title(\"Curva ROC-Data de Testeo\",weight='bold',color='red')\n",
    "plt.show()"
   ]
  },
  {
   "cell_type": "markdown",
   "metadata": {},
   "source": [
    "## 5. Modelar el tipo de vino (wine_type) en función a las variables predictoras haciendo uso del modelo de análisis discriminante lineal. Considerar para las predicciones un punto de corte de 0.6."
   ]
  },
  {
   "cell_type": "code",
   "execution_count": 46,
   "metadata": {},
   "outputs": [
    {
     "name": "stdout",
     "output_type": "stream",
     "text": [
      "Las probabilidades a priori son:\n",
      "\n",
      "Probabilidad a Priori del VINO BLANCO: 0.754\n",
      "Probabilidad a Priori del VINO ROJO: 0.246\n"
     ]
    }
   ],
   "source": [
    "#Instanciamos un objeto de clase LinearDiscriminantAnalysis\n",
    "lda = LinearDiscriminantAnalysis()\n",
    "model = lda.fit(X_train,# los valores de los predictores de entrenamiento\n",
    "                y_train)#los valores de y de entrenamiento\n",
    "print(\"Las probabilidades a priori son:\\n\")\n",
    "print(\"Probabilidad a Priori del VINO BLANCO:\",model.priors_[0].round(3))\n",
    "print(\"Probabilidad a Priori del VINO ROJO:\",model.priors_[1].round(3))"
   ]
  },
  {
   "cell_type": "code",
   "execution_count": 47,
   "metadata": {},
   "outputs": [
    {
     "data": {
      "text/plain": [
       "1    3673\n",
       "2    1199\n",
       "dtype: int64"
      ]
     },
     "execution_count": 47,
     "metadata": {},
     "output_type": "execute_result"
    }
   ],
   "source": [
    "pd.value_counts(y_train)"
   ]
  },
  {
   "cell_type": "code",
   "execution_count": 48,
   "metadata": {
    "id": "3Z0MYBs_Y3b1",
    "outputId": "7891bf1b-4704-4e5d-c5d8-bd5b14a72c89"
   },
   "outputs": [
    {
     "name": "stdout",
     "output_type": "stream",
     "text": [
      "Prediciendo la data de entrenamiento:\n",
      " [2 1 1 ... 1 1 1]\n"
     ]
    }
   ],
   "source": [
    "prob_train_cat_LDA=lda.predict(X_train)\n",
    "print(\"Prediciendo la data de entrenamiento:\\n\",prob_train_cat_LDA)"
   ]
  },
  {
   "cell_type": "code",
   "execution_count": 49,
   "metadata": {
    "id": "_g1rMuiLY3b1",
    "outputId": "f76478f0-d6d5-4785-9136-b12a5f77516a"
   },
   "outputs": [
    {
     "name": "stdout",
     "output_type": "stream",
     "text": [
      "Prediciendo la probabilidad de la data de entrenamiento:\n",
      " [[0. 1.]\n",
      " [1. 0.]\n",
      " [1. 0.]\n",
      " ...\n",
      " [1. 0.]\n",
      " [1. 0.]\n",
      " [1. 0.]]\n"
     ]
    }
   ],
   "source": [
    "prob_train_LDA=lda.predict_proba(X_train)\n",
    "print(\"Prediciendo la probabilidad de la data de entrenamiento:\\n\",prob_train_LDA.round(3))"
   ]
  },
  {
   "cell_type": "code",
   "execution_count": 50,
   "metadata": {
    "id": "k994hFe4Y3b2",
    "outputId": "a3bb4522-0a11-4f68-f1e2-5d23641987d5",
    "scrolled": true
   },
   "outputs": [
    {
     "name": "stdout",
     "output_type": "stream",
     "text": [
      "Selecionando las probabilidades de que Y=1 de la data de entrenamiento:\n",
      " [1. 0. 0. ... 0. 0. 0.]\n"
     ]
    }
   ],
   "source": [
    "#Selecciono las probabilidades de que Y=1\n",
    "prob_LDA=prob_train_LDA[:,1].round(3)\n",
    "print(\"Selecionando las probabilidades de que Y=1 de la data de entrenamiento:\\n\",prob_LDA)"
   ]
  },
  {
   "cell_type": "code",
   "execution_count": 51,
   "metadata": {
    "id": "zn2HoNUpY3b2",
    "outputId": "1c5df6fc-fb7c-48ad-94ac-211b5533275b"
   },
   "outputs": [
    {
     "data": {
      "text/html": [
       "<div>\n",
       "<style scoped>\n",
       "    .dataframe tbody tr th:only-of-type {\n",
       "        vertical-align: middle;\n",
       "    }\n",
       "\n",
       "    .dataframe tbody tr th {\n",
       "        vertical-align: top;\n",
       "    }\n",
       "\n",
       "    .dataframe thead th {\n",
       "        text-align: right;\n",
       "    }\n",
       "</style>\n",
       "<table border=\"1\" class=\"dataframe\">\n",
       "  <thead>\n",
       "    <tr style=\"text-align: right;\">\n",
       "      <th></th>\n",
       "      <th>prob y=1</th>\n",
       "    </tr>\n",
       "  </thead>\n",
       "  <tbody>\n",
       "    <tr>\n",
       "      <th>0</th>\n",
       "      <td>1.0</td>\n",
       "    </tr>\n",
       "    <tr>\n",
       "      <th>1</th>\n",
       "      <td>0.0</td>\n",
       "    </tr>\n",
       "    <tr>\n",
       "      <th>2</th>\n",
       "      <td>0.0</td>\n",
       "    </tr>\n",
       "    <tr>\n",
       "      <th>3</th>\n",
       "      <td>0.0</td>\n",
       "    </tr>\n",
       "    <tr>\n",
       "      <th>4</th>\n",
       "      <td>0.0</td>\n",
       "    </tr>\n",
       "    <tr>\n",
       "      <th>5</th>\n",
       "      <td>1.0</td>\n",
       "    </tr>\n",
       "    <tr>\n",
       "      <th>6</th>\n",
       "      <td>0.0</td>\n",
       "    </tr>\n",
       "    <tr>\n",
       "      <th>7</th>\n",
       "      <td>0.0</td>\n",
       "    </tr>\n",
       "    <tr>\n",
       "      <th>8</th>\n",
       "      <td>1.0</td>\n",
       "    </tr>\n",
       "    <tr>\n",
       "      <th>9</th>\n",
       "      <td>0.0</td>\n",
       "    </tr>\n",
       "  </tbody>\n",
       "</table>\n",
       "</div>"
      ],
      "text/plain": [
       "   prob y=1\n",
       "0       1.0\n",
       "1       0.0\n",
       "2       0.0\n",
       "3       0.0\n",
       "4       0.0\n",
       "5       1.0\n",
       "6       0.0\n",
       "7       0.0\n",
       "8       1.0\n",
       "9       0.0"
      ]
     },
     "execution_count": 51,
     "metadata": {},
     "output_type": "execute_result"
    }
   ],
   "source": [
    "prob_wines_train_LDA=pd.DataFrame(prob_LDA,columns=['prob y=1'])\n",
    "prob_wines_train_LDA.head(10)"
   ]
  },
  {
   "cell_type": "code",
   "execution_count": 52,
   "metadata": {
    "id": "t0Aax0g5Y3b2"
   },
   "outputs": [],
   "source": [
    "#Ajustando el punto de corte\n",
    "punto_corte=0.6"
   ]
  },
  {
   "cell_type": "code",
   "execution_count": 53,
   "metadata": {
    "id": "LYw12uiGY3b2",
    "outputId": "36df0e39-96ba-4e23-e96e-e38a6bf6af7d",
    "scrolled": false
   },
   "outputs": [
    {
     "data": {
      "text/html": [
       "<div>\n",
       "<style scoped>\n",
       "    .dataframe tbody tr th:only-of-type {\n",
       "        vertical-align: middle;\n",
       "    }\n",
       "\n",
       "    .dataframe tbody tr th {\n",
       "        vertical-align: top;\n",
       "    }\n",
       "\n",
       "    .dataframe thead th {\n",
       "        text-align: right;\n",
       "    }\n",
       "</style>\n",
       "<table border=\"1\" class=\"dataframe\">\n",
       "  <thead>\n",
       "    <tr style=\"text-align: right;\">\n",
       "      <th></th>\n",
       "      <th>prob y=1</th>\n",
       "      <th>predicción</th>\n",
       "    </tr>\n",
       "  </thead>\n",
       "  <tbody>\n",
       "    <tr>\n",
       "      <th>0</th>\n",
       "      <td>1.0</td>\n",
       "      <td>2</td>\n",
       "    </tr>\n",
       "    <tr>\n",
       "      <th>1</th>\n",
       "      <td>0.0</td>\n",
       "      <td>1</td>\n",
       "    </tr>\n",
       "    <tr>\n",
       "      <th>2</th>\n",
       "      <td>0.0</td>\n",
       "      <td>1</td>\n",
       "    </tr>\n",
       "    <tr>\n",
       "      <th>3</th>\n",
       "      <td>0.0</td>\n",
       "      <td>1</td>\n",
       "    </tr>\n",
       "    <tr>\n",
       "      <th>4</th>\n",
       "      <td>0.0</td>\n",
       "      <td>1</td>\n",
       "    </tr>\n",
       "    <tr>\n",
       "      <th>5</th>\n",
       "      <td>1.0</td>\n",
       "      <td>2</td>\n",
       "    </tr>\n",
       "    <tr>\n",
       "      <th>6</th>\n",
       "      <td>0.0</td>\n",
       "      <td>1</td>\n",
       "    </tr>\n",
       "    <tr>\n",
       "      <th>7</th>\n",
       "      <td>0.0</td>\n",
       "      <td>1</td>\n",
       "    </tr>\n",
       "    <tr>\n",
       "      <th>8</th>\n",
       "      <td>1.0</td>\n",
       "      <td>2</td>\n",
       "    </tr>\n",
       "    <tr>\n",
       "      <th>9</th>\n",
       "      <td>0.0</td>\n",
       "      <td>1</td>\n",
       "    </tr>\n",
       "  </tbody>\n",
       "</table>\n",
       "</div>"
      ],
      "text/plain": [
       "   prob y=1  predicción\n",
       "0       1.0           2\n",
       "1       0.0           1\n",
       "2       0.0           1\n",
       "3       0.0           1\n",
       "4       0.0           1\n",
       "5       1.0           2\n",
       "6       0.0           1\n",
       "7       0.0           1\n",
       "8       1.0           2\n",
       "9       0.0           1"
      ]
     },
     "execution_count": 53,
     "metadata": {},
     "output_type": "execute_result"
    }
   ],
   "source": [
    "#Agregando una nueva columna con las categorías predichas con el nuevo punto de corte\n",
    "prob_wines_train_LDA[\"predicción\"]=np.where(prob_wines_train_LDA['prob y=1']>punto_corte,2,1)\n",
    "prob_wines_train_LDA.head(10)"
   ]
  },
  {
   "cell_type": "code",
   "execution_count": 54,
   "metadata": {
    "scrolled": true
   },
   "outputs": [
    {
     "name": "stdout",
     "output_type": "stream",
     "text": [
      "La cantidad de observaciones para la data de entrenamiento para el modelo LDA es: 4872\n"
     ]
    }
   ],
   "source": [
    "print(\"La cantidad de observaciones para la data de entrenamiento para el modelo LDA es:\",prob_wines_train_LDA.shape[0])"
   ]
  },
  {
   "cell_type": "markdown",
   "metadata": {},
   "source": [
    "## 6. Aplicar los parámetros del modelo de entrenamiento a los datos de testeo, considerar para las predicciones un punto de corte de 0.6."
   ]
  },
  {
   "cell_type": "code",
   "execution_count": 55,
   "metadata": {
    "id": "R2IJT95XY3b4",
    "outputId": "d49328d6-2094-4ffb-c974-686216628d73"
   },
   "outputs": [
    {
     "data": {
      "text/plain": [
       "array([0., 1., 0., ..., 0., 1., 0.])"
      ]
     },
     "execution_count": 55,
     "metadata": {},
     "output_type": "execute_result"
    }
   ],
   "source": [
    "prob_test_LDA=lda.predict_proba(X_test)\n",
    "prob2_LDA=prob_test_LDA[:,1]\n",
    "prob2_LDA.round(3)"
   ]
  },
  {
   "cell_type": "code",
   "execution_count": 56,
   "metadata": {
    "id": "0winh_sPY3b4",
    "outputId": "98f5deea-1acb-40ed-9337-93f1ec774954"
   },
   "outputs": [
    {
     "data": {
      "text/html": [
       "<div>\n",
       "<style scoped>\n",
       "    .dataframe tbody tr th:only-of-type {\n",
       "        vertical-align: middle;\n",
       "    }\n",
       "\n",
       "    .dataframe tbody tr th {\n",
       "        vertical-align: top;\n",
       "    }\n",
       "\n",
       "    .dataframe thead th {\n",
       "        text-align: right;\n",
       "    }\n",
       "</style>\n",
       "<table border=\"1\" class=\"dataframe\">\n",
       "  <thead>\n",
       "    <tr style=\"text-align: right;\">\n",
       "      <th></th>\n",
       "      <th>prob y=1</th>\n",
       "    </tr>\n",
       "  </thead>\n",
       "  <tbody>\n",
       "    <tr>\n",
       "      <th>0</th>\n",
       "      <td>0.0</td>\n",
       "    </tr>\n",
       "    <tr>\n",
       "      <th>1</th>\n",
       "      <td>1.0</td>\n",
       "    </tr>\n",
       "    <tr>\n",
       "      <th>2</th>\n",
       "      <td>0.0</td>\n",
       "    </tr>\n",
       "    <tr>\n",
       "      <th>3</th>\n",
       "      <td>0.0</td>\n",
       "    </tr>\n",
       "    <tr>\n",
       "      <th>4</th>\n",
       "      <td>0.0</td>\n",
       "    </tr>\n",
       "    <tr>\n",
       "      <th>5</th>\n",
       "      <td>0.0</td>\n",
       "    </tr>\n",
       "    <tr>\n",
       "      <th>6</th>\n",
       "      <td>0.0</td>\n",
       "    </tr>\n",
       "    <tr>\n",
       "      <th>7</th>\n",
       "      <td>1.0</td>\n",
       "    </tr>\n",
       "    <tr>\n",
       "      <th>8</th>\n",
       "      <td>0.0</td>\n",
       "    </tr>\n",
       "    <tr>\n",
       "      <th>9</th>\n",
       "      <td>0.0</td>\n",
       "    </tr>\n",
       "  </tbody>\n",
       "</table>\n",
       "</div>"
      ],
      "text/plain": [
       "   prob y=1\n",
       "0       0.0\n",
       "1       1.0\n",
       "2       0.0\n",
       "3       0.0\n",
       "4       0.0\n",
       "5       0.0\n",
       "6       0.0\n",
       "7       1.0\n",
       "8       0.0\n",
       "9       0.0"
      ]
     },
     "execution_count": 56,
     "metadata": {},
     "output_type": "execute_result"
    }
   ],
   "source": [
    "prob_wines_test_LDA=pd.DataFrame(prob2_LDA.round(3),columns=['prob y=1'])\n",
    "prob_wines_test_LDA.head(10)"
   ]
  },
  {
   "cell_type": "code",
   "execution_count": 57,
   "metadata": {
    "id": "uXBJiw6hY3b5",
    "outputId": "ca674149-c464-474e-bbcd-c460ffc1e589",
    "scrolled": true
   },
   "outputs": [
    {
     "data": {
      "text/html": [
       "<div>\n",
       "<style scoped>\n",
       "    .dataframe tbody tr th:only-of-type {\n",
       "        vertical-align: middle;\n",
       "    }\n",
       "\n",
       "    .dataframe tbody tr th {\n",
       "        vertical-align: top;\n",
       "    }\n",
       "\n",
       "    .dataframe thead th {\n",
       "        text-align: right;\n",
       "    }\n",
       "</style>\n",
       "<table border=\"1\" class=\"dataframe\">\n",
       "  <thead>\n",
       "    <tr style=\"text-align: right;\">\n",
       "      <th></th>\n",
       "      <th>prob y=1</th>\n",
       "      <th>prediccion</th>\n",
       "    </tr>\n",
       "  </thead>\n",
       "  <tbody>\n",
       "    <tr>\n",
       "      <th>0</th>\n",
       "      <td>0.0</td>\n",
       "      <td>1</td>\n",
       "    </tr>\n",
       "    <tr>\n",
       "      <th>1</th>\n",
       "      <td>1.0</td>\n",
       "      <td>2</td>\n",
       "    </tr>\n",
       "    <tr>\n",
       "      <th>2</th>\n",
       "      <td>0.0</td>\n",
       "      <td>1</td>\n",
       "    </tr>\n",
       "    <tr>\n",
       "      <th>3</th>\n",
       "      <td>0.0</td>\n",
       "      <td>1</td>\n",
       "    </tr>\n",
       "    <tr>\n",
       "      <th>4</th>\n",
       "      <td>0.0</td>\n",
       "      <td>1</td>\n",
       "    </tr>\n",
       "    <tr>\n",
       "      <th>5</th>\n",
       "      <td>0.0</td>\n",
       "      <td>1</td>\n",
       "    </tr>\n",
       "    <tr>\n",
       "      <th>6</th>\n",
       "      <td>0.0</td>\n",
       "      <td>1</td>\n",
       "    </tr>\n",
       "    <tr>\n",
       "      <th>7</th>\n",
       "      <td>1.0</td>\n",
       "      <td>2</td>\n",
       "    </tr>\n",
       "    <tr>\n",
       "      <th>8</th>\n",
       "      <td>0.0</td>\n",
       "      <td>1</td>\n",
       "    </tr>\n",
       "    <tr>\n",
       "      <th>9</th>\n",
       "      <td>0.0</td>\n",
       "      <td>1</td>\n",
       "    </tr>\n",
       "  </tbody>\n",
       "</table>\n",
       "</div>"
      ],
      "text/plain": [
       "   prob y=1  prediccion\n",
       "0       0.0           1\n",
       "1       1.0           2\n",
       "2       0.0           1\n",
       "3       0.0           1\n",
       "4       0.0           1\n",
       "5       0.0           1\n",
       "6       0.0           1\n",
       "7       1.0           2\n",
       "8       0.0           1\n",
       "9       0.0           1"
      ]
     },
     "execution_count": 57,
     "metadata": {},
     "output_type": "execute_result"
    }
   ],
   "source": [
    "prob_wines_test_LDA['prediccion']=np.where(prob_wines_test_LDA[\"prob y=1\"]>punto_corte,2,1)\n",
    "prob_wines_test_LDA.head(10)"
   ]
  },
  {
   "cell_type": "code",
   "execution_count": 58,
   "metadata": {
    "scrolled": false
   },
   "outputs": [
    {
     "name": "stdout",
     "output_type": "stream",
     "text": [
      "La cantidad de observaciones para la data de prueba para el modelo LDA es: 1625\n"
     ]
    }
   ],
   "source": [
    "print(\"La cantidad de observaciones para la data de prueba para el modelo LDA es:\",prob_wines_test_LDA.shape[0])"
   ]
  },
  {
   "cell_type": "markdown",
   "metadata": {},
   "source": [
    "## 7. Modelar el tipo de vino (wine_type) en función a las variables predictoras haciendo uso del modelo de análisis discriminante cuadrático. Considerar para las predicciones un punto de corte de 0.6."
   ]
  },
  {
   "cell_type": "code",
   "execution_count": 59,
   "metadata": {
    "id": "ll3xB3SbRB4Y"
   },
   "outputs": [],
   "source": [
    "#Instanciamos un objeto de clase QuadraticDiscriminantAnalysis\n",
    "qda = QuadraticDiscriminantAnalysis()"
   ]
  },
  {
   "cell_type": "code",
   "execution_count": 60,
   "metadata": {
    "id": "eqDAntkURB4Y",
    "outputId": "50c9aa3a-5a3e-4ed1-e4b0-7552155fc619"
   },
   "outputs": [
    {
     "name": "stdout",
     "output_type": "stream",
     "text": [
      "Las probabilidades a priori son:\n",
      "\n",
      "Probabilidad a Priori del VINO BLANCO: 0.754\n",
      "Probabilidad a Priori del VINO ROJO: 0.246\n"
     ]
    }
   ],
   "source": [
    "#X_train, X_test, y_train, y_test =train_test_split(X, y,test_size=0.25,random_state=2021,stratify=y)\n",
    "model2 = qda.fit(X_train, #X DE ENTRENAMIENTO \n",
    "                 y_train) #Y DE ENTRENAMIENTO\n",
    "print(\"Las probabilidades a priori son:\\n\")\n",
    "print(\"Probabilidad a Priori del VINO BLANCO:\",model2.priors_[0].round(3))\n",
    "print(\"Probabilidad a Priori del VINO ROJO:\",model2.priors_[1].round(3))"
   ]
  },
  {
   "cell_type": "code",
   "execution_count": 61,
   "metadata": {},
   "outputs": [
    {
     "data": {
      "text/plain": [
       "1    3673\n",
       "2    1199\n",
       "dtype: int64"
      ]
     },
     "execution_count": 61,
     "metadata": {},
     "output_type": "execute_result"
    }
   ],
   "source": [
    "pd.value_counts(y_train)"
   ]
  },
  {
   "cell_type": "code",
   "execution_count": 62,
   "metadata": {
    "id": "3Z0MYBs_Y3b1",
    "outputId": "7891bf1b-4704-4e5d-c5d8-bd5b14a72c89"
   },
   "outputs": [
    {
     "name": "stdout",
     "output_type": "stream",
     "text": [
      "Prediciendo la data de entrenamiento:\n",
      " [2 1 1 ... 2 1 1]\n"
     ]
    }
   ],
   "source": [
    "prob_train_cat_cuadratica=qda.predict(X_train)\n",
    "print(\"Prediciendo la data de entrenamiento:\\n\",prob_train_cat_cuadratica)"
   ]
  },
  {
   "cell_type": "code",
   "execution_count": 63,
   "metadata": {
    "id": "_g1rMuiLY3b1",
    "outputId": "f76478f0-d6d5-4785-9136-b12a5f77516a"
   },
   "outputs": [
    {
     "name": "stdout",
     "output_type": "stream",
     "text": [
      "Prediciendo la probabilidad de la data de entrenamiento:\n",
      " [[0.    1.   ]\n",
      " [0.998 0.002]\n",
      " [0.976 0.024]\n",
      " ...\n",
      " [0.    1.   ]\n",
      " [0.999 0.001]\n",
      " [1.    0.   ]]\n"
     ]
    }
   ],
   "source": [
    "prob_train_cuadratica=qda.predict_proba(X_train).round(3)\n",
    "print(\"Prediciendo la probabilidad de la data de entrenamiento:\\n\",prob_train_cuadratica.round(3))"
   ]
  },
  {
   "cell_type": "code",
   "execution_count": 64,
   "metadata": {
    "id": "k994hFe4Y3b2",
    "outputId": "a3bb4522-0a11-4f68-f1e2-5d23641987d5",
    "scrolled": true
   },
   "outputs": [
    {
     "name": "stdout",
     "output_type": "stream",
     "text": [
      "Selecionando las probabilidades de que Y=1 de la data de entrenamiento:\n",
      " [1.    0.002 0.024 ... 1.    0.001 0.   ]\n"
     ]
    }
   ],
   "source": [
    "#Selecciono las probabilidades de que Y=1\n",
    "prob_cuadratica=prob_train_cuadratica[:,1].round(3)\n",
    "print(\"Selecionando las probabilidades de que Y=1 de la data de entrenamiento:\\n\",prob_cuadratica)"
   ]
  },
  {
   "cell_type": "code",
   "execution_count": 65,
   "metadata": {
    "id": "zn2HoNUpY3b2",
    "outputId": "1c5df6fc-fb7c-48ad-94ac-211b5533275b"
   },
   "outputs": [
    {
     "data": {
      "text/html": [
       "<div>\n",
       "<style scoped>\n",
       "    .dataframe tbody tr th:only-of-type {\n",
       "        vertical-align: middle;\n",
       "    }\n",
       "\n",
       "    .dataframe tbody tr th {\n",
       "        vertical-align: top;\n",
       "    }\n",
       "\n",
       "    .dataframe thead th {\n",
       "        text-align: right;\n",
       "    }\n",
       "</style>\n",
       "<table border=\"1\" class=\"dataframe\">\n",
       "  <thead>\n",
       "    <tr style=\"text-align: right;\">\n",
       "      <th></th>\n",
       "      <th>prob y=1</th>\n",
       "    </tr>\n",
       "  </thead>\n",
       "  <tbody>\n",
       "    <tr>\n",
       "      <th>0</th>\n",
       "      <td>1.000</td>\n",
       "    </tr>\n",
       "    <tr>\n",
       "      <th>1</th>\n",
       "      <td>0.002</td>\n",
       "    </tr>\n",
       "    <tr>\n",
       "      <th>2</th>\n",
       "      <td>0.024</td>\n",
       "    </tr>\n",
       "    <tr>\n",
       "      <th>3</th>\n",
       "      <td>0.000</td>\n",
       "    </tr>\n",
       "    <tr>\n",
       "      <th>4</th>\n",
       "      <td>0.000</td>\n",
       "    </tr>\n",
       "  </tbody>\n",
       "</table>\n",
       "</div>"
      ],
      "text/plain": [
       "   prob y=1\n",
       "0     1.000\n",
       "1     0.002\n",
       "2     0.024\n",
       "3     0.000\n",
       "4     0.000"
      ]
     },
     "execution_count": 65,
     "metadata": {},
     "output_type": "execute_result"
    }
   ],
   "source": [
    "prob_wines_train_cuadratica=pd.DataFrame(prob_cuadratica,columns=['prob y=1'])\n",
    "prob_wines_train_cuadratica.head()"
   ]
  },
  {
   "cell_type": "code",
   "execution_count": 66,
   "metadata": {
    "id": "t0Aax0g5Y3b2"
   },
   "outputs": [],
   "source": [
    "#Ajustando el punto de corte\n",
    "punto_corte=0.6"
   ]
  },
  {
   "cell_type": "code",
   "execution_count": 67,
   "metadata": {
    "id": "LYw12uiGY3b2",
    "outputId": "36df0e39-96ba-4e23-e96e-e38a6bf6af7d",
    "scrolled": false
   },
   "outputs": [
    {
     "data": {
      "text/html": [
       "<div>\n",
       "<style scoped>\n",
       "    .dataframe tbody tr th:only-of-type {\n",
       "        vertical-align: middle;\n",
       "    }\n",
       "\n",
       "    .dataframe tbody tr th {\n",
       "        vertical-align: top;\n",
       "    }\n",
       "\n",
       "    .dataframe thead th {\n",
       "        text-align: right;\n",
       "    }\n",
       "</style>\n",
       "<table border=\"1\" class=\"dataframe\">\n",
       "  <thead>\n",
       "    <tr style=\"text-align: right;\">\n",
       "      <th></th>\n",
       "      <th>prob y=1</th>\n",
       "      <th>prediccion</th>\n",
       "    </tr>\n",
       "  </thead>\n",
       "  <tbody>\n",
       "    <tr>\n",
       "      <th>0</th>\n",
       "      <td>1.000</td>\n",
       "      <td>2</td>\n",
       "    </tr>\n",
       "    <tr>\n",
       "      <th>1</th>\n",
       "      <td>0.002</td>\n",
       "      <td>1</td>\n",
       "    </tr>\n",
       "    <tr>\n",
       "      <th>2</th>\n",
       "      <td>0.024</td>\n",
       "      <td>1</td>\n",
       "    </tr>\n",
       "    <tr>\n",
       "      <th>3</th>\n",
       "      <td>0.000</td>\n",
       "      <td>1</td>\n",
       "    </tr>\n",
       "    <tr>\n",
       "      <th>4</th>\n",
       "      <td>0.000</td>\n",
       "      <td>1</td>\n",
       "    </tr>\n",
       "    <tr>\n",
       "      <th>5</th>\n",
       "      <td>1.000</td>\n",
       "      <td>2</td>\n",
       "    </tr>\n",
       "    <tr>\n",
       "      <th>6</th>\n",
       "      <td>0.000</td>\n",
       "      <td>1</td>\n",
       "    </tr>\n",
       "    <tr>\n",
       "      <th>7</th>\n",
       "      <td>0.000</td>\n",
       "      <td>1</td>\n",
       "    </tr>\n",
       "    <tr>\n",
       "      <th>8</th>\n",
       "      <td>1.000</td>\n",
       "      <td>2</td>\n",
       "    </tr>\n",
       "    <tr>\n",
       "      <th>9</th>\n",
       "      <td>0.000</td>\n",
       "      <td>1</td>\n",
       "    </tr>\n",
       "  </tbody>\n",
       "</table>\n",
       "</div>"
      ],
      "text/plain": [
       "   prob y=1  prediccion\n",
       "0     1.000           2\n",
       "1     0.002           1\n",
       "2     0.024           1\n",
       "3     0.000           1\n",
       "4     0.000           1\n",
       "5     1.000           2\n",
       "6     0.000           1\n",
       "7     0.000           1\n",
       "8     1.000           2\n",
       "9     0.000           1"
      ]
     },
     "execution_count": 67,
     "metadata": {},
     "output_type": "execute_result"
    }
   ],
   "source": [
    "#Agregando una nueva columna con las categorías predichas con el nuevo punto de corte\n",
    "prob_wines_train_cuadratica[\"prediccion\"]=np.where(prob_wines_train_cuadratica['prob y=1']>punto_corte,2,1)\n",
    "prob_wines_train_cuadratica.head(10)"
   ]
  },
  {
   "cell_type": "code",
   "execution_count": 68,
   "metadata": {
    "scrolled": true
   },
   "outputs": [
    {
     "name": "stdout",
     "output_type": "stream",
     "text": [
      "La cantidad de observaciones para la data de entrenamiento para el modelo QDA es: 4872\n"
     ]
    }
   ],
   "source": [
    "print(\"La cantidad de observaciones para la data de entrenamiento para el modelo QDA es:\",prob_wines_train_cuadratica.shape[0])"
   ]
  },
  {
   "cell_type": "markdown",
   "metadata": {},
   "source": [
    "## 8. Aplicar los parámetros del modelo de entrenamiento a los datos de testeo, considerar para las predicciones un punto de corte de 0.6."
   ]
  },
  {
   "cell_type": "code",
   "execution_count": 69,
   "metadata": {
    "id": "R2IJT95XY3b4",
    "outputId": "d49328d6-2094-4ffb-c974-686216628d73"
   },
   "outputs": [
    {
     "data": {
      "text/plain": [
       "array([0., 1., 0., ..., 0., 1., 0.])"
      ]
     },
     "execution_count": 69,
     "metadata": {},
     "output_type": "execute_result"
    }
   ],
   "source": [
    "prob_test_QDA=qda.predict_proba(X_test)\n",
    "prob2_QDA=prob_test_QDA[:,1]\n",
    "prob2_QDA.round(3)"
   ]
  },
  {
   "cell_type": "code",
   "execution_count": 70,
   "metadata": {
    "id": "0winh_sPY3b4",
    "outputId": "98f5deea-1acb-40ed-9337-93f1ec774954"
   },
   "outputs": [
    {
     "data": {
      "text/html": [
       "<div>\n",
       "<style scoped>\n",
       "    .dataframe tbody tr th:only-of-type {\n",
       "        vertical-align: middle;\n",
       "    }\n",
       "\n",
       "    .dataframe tbody tr th {\n",
       "        vertical-align: top;\n",
       "    }\n",
       "\n",
       "    .dataframe thead th {\n",
       "        text-align: right;\n",
       "    }\n",
       "</style>\n",
       "<table border=\"1\" class=\"dataframe\">\n",
       "  <thead>\n",
       "    <tr style=\"text-align: right;\">\n",
       "      <th></th>\n",
       "      <th>prob y=1</th>\n",
       "    </tr>\n",
       "  </thead>\n",
       "  <tbody>\n",
       "    <tr>\n",
       "      <th>0</th>\n",
       "      <td>0.0</td>\n",
       "    </tr>\n",
       "    <tr>\n",
       "      <th>1</th>\n",
       "      <td>1.0</td>\n",
       "    </tr>\n",
       "    <tr>\n",
       "      <th>2</th>\n",
       "      <td>0.0</td>\n",
       "    </tr>\n",
       "    <tr>\n",
       "      <th>3</th>\n",
       "      <td>0.0</td>\n",
       "    </tr>\n",
       "    <tr>\n",
       "      <th>4</th>\n",
       "      <td>0.0</td>\n",
       "    </tr>\n",
       "    <tr>\n",
       "      <th>5</th>\n",
       "      <td>0.0</td>\n",
       "    </tr>\n",
       "    <tr>\n",
       "      <th>6</th>\n",
       "      <td>0.0</td>\n",
       "    </tr>\n",
       "    <tr>\n",
       "      <th>7</th>\n",
       "      <td>1.0</td>\n",
       "    </tr>\n",
       "    <tr>\n",
       "      <th>8</th>\n",
       "      <td>0.0</td>\n",
       "    </tr>\n",
       "    <tr>\n",
       "      <th>9</th>\n",
       "      <td>0.0</td>\n",
       "    </tr>\n",
       "  </tbody>\n",
       "</table>\n",
       "</div>"
      ],
      "text/plain": [
       "   prob y=1\n",
       "0       0.0\n",
       "1       1.0\n",
       "2       0.0\n",
       "3       0.0\n",
       "4       0.0\n",
       "5       0.0\n",
       "6       0.0\n",
       "7       1.0\n",
       "8       0.0\n",
       "9       0.0"
      ]
     },
     "execution_count": 70,
     "metadata": {},
     "output_type": "execute_result"
    }
   ],
   "source": [
    "prob_wines_test_QDA=pd.DataFrame(prob2_QDA.round(3),columns=['prob y=1'])\n",
    "prob_wines_test_QDA.head(10)"
   ]
  },
  {
   "cell_type": "code",
   "execution_count": 71,
   "metadata": {
    "id": "uXBJiw6hY3b5",
    "outputId": "ca674149-c464-474e-bbcd-c460ffc1e589",
    "scrolled": true
   },
   "outputs": [
    {
     "data": {
      "text/html": [
       "<div>\n",
       "<style scoped>\n",
       "    .dataframe tbody tr th:only-of-type {\n",
       "        vertical-align: middle;\n",
       "    }\n",
       "\n",
       "    .dataframe tbody tr th {\n",
       "        vertical-align: top;\n",
       "    }\n",
       "\n",
       "    .dataframe thead th {\n",
       "        text-align: right;\n",
       "    }\n",
       "</style>\n",
       "<table border=\"1\" class=\"dataframe\">\n",
       "  <thead>\n",
       "    <tr style=\"text-align: right;\">\n",
       "      <th></th>\n",
       "      <th>prob y=1</th>\n",
       "      <th>prediccion</th>\n",
       "    </tr>\n",
       "  </thead>\n",
       "  <tbody>\n",
       "    <tr>\n",
       "      <th>0</th>\n",
       "      <td>0.0</td>\n",
       "      <td>1</td>\n",
       "    </tr>\n",
       "    <tr>\n",
       "      <th>1</th>\n",
       "      <td>1.0</td>\n",
       "      <td>2</td>\n",
       "    </tr>\n",
       "    <tr>\n",
       "      <th>2</th>\n",
       "      <td>0.0</td>\n",
       "      <td>1</td>\n",
       "    </tr>\n",
       "    <tr>\n",
       "      <th>3</th>\n",
       "      <td>0.0</td>\n",
       "      <td>1</td>\n",
       "    </tr>\n",
       "    <tr>\n",
       "      <th>4</th>\n",
       "      <td>0.0</td>\n",
       "      <td>1</td>\n",
       "    </tr>\n",
       "    <tr>\n",
       "      <th>5</th>\n",
       "      <td>0.0</td>\n",
       "      <td>1</td>\n",
       "    </tr>\n",
       "    <tr>\n",
       "      <th>6</th>\n",
       "      <td>0.0</td>\n",
       "      <td>1</td>\n",
       "    </tr>\n",
       "    <tr>\n",
       "      <th>7</th>\n",
       "      <td>1.0</td>\n",
       "      <td>2</td>\n",
       "    </tr>\n",
       "    <tr>\n",
       "      <th>8</th>\n",
       "      <td>0.0</td>\n",
       "      <td>1</td>\n",
       "    </tr>\n",
       "    <tr>\n",
       "      <th>9</th>\n",
       "      <td>0.0</td>\n",
       "      <td>1</td>\n",
       "    </tr>\n",
       "  </tbody>\n",
       "</table>\n",
       "</div>"
      ],
      "text/plain": [
       "   prob y=1  prediccion\n",
       "0       0.0           1\n",
       "1       1.0           2\n",
       "2       0.0           1\n",
       "3       0.0           1\n",
       "4       0.0           1\n",
       "5       0.0           1\n",
       "6       0.0           1\n",
       "7       1.0           2\n",
       "8       0.0           1\n",
       "9       0.0           1"
      ]
     },
     "execution_count": 71,
     "metadata": {},
     "output_type": "execute_result"
    }
   ],
   "source": [
    "prob_wines_test_QDA['prediccion']=np.where(prob_wines_test_QDA[\"prob y=1\"]>punto_corte,2,1)\n",
    "prob_wines_test_QDA.head(10)"
   ]
  },
  {
   "cell_type": "code",
   "execution_count": 72,
   "metadata": {
    "scrolled": false
   },
   "outputs": [
    {
     "name": "stdout",
     "output_type": "stream",
     "text": [
      "La cantidad de observaciones para la data de prueba para el modelo QDA es: 1625\n"
     ]
    }
   ],
   "source": [
    "print(\"La cantidad de observaciones para la data de prueba para el modelo QDA es:\",prob_wines_test_QDA.shape[0])"
   ]
  },
  {
   "cell_type": "markdown",
   "metadata": {},
   "source": [
    "## 9. Evaluar los modelos de análisis discriminante lineal y cuadrático haciendo uso de las métricas de accuracy, sensibilidad. especificidad, auc y curva ROC."
   ]
  },
  {
   "cell_type": "markdown",
   "metadata": {},
   "source": [
    "### ANÁLISIS DISCRMINANTE LINEAL"
   ]
  },
  {
   "cell_type": "code",
   "execution_count": 73,
   "metadata": {
    "id": "TC8ORXSSY3bx",
    "outputId": "9fbdea57-1eca-4739-cc04-7ca9b5deeb66"
   },
   "outputs": [
    {
     "name": "stdout",
     "output_type": "stream",
     "text": [
      "[0.996 0.988 0.992 0.996 0.998 0.99  0.998 0.992 0.996 0.996]\n"
     ]
    }
   ],
   "source": [
    "scores_LDA= cross_val_score(estimator=model, #Modelo\n",
    "                   X=X_train, #Matriz de Datos\n",
    "                   y=y_train, #Variable Target\n",
    "                   scoring='accuracy', #Métrica a evaluar\n",
    "                   cv=10) #Número de particiones\n",
    "print(scores_LDA.round(3))"
   ]
  },
  {
   "cell_type": "code",
   "execution_count": 74,
   "metadata": {
    "id": "Bb5hoNZSY3bz",
    "outputId": "7a55df3e-6a93-4ad6-aa07-8d4868ce488d"
   },
   "outputs": [
    {
     "data": {
      "text/plain": [
       "0.994"
      ]
     },
     "execution_count": 74,
     "metadata": {},
     "output_type": "execute_result"
    }
   ],
   "source": [
    "scores_LDA.mean().round(3)"
   ]
  },
  {
   "cell_type": "code",
   "execution_count": 75,
   "metadata": {
    "id": "mTJld_dJY3b0",
    "outputId": "e54e69a1-c510-40e3-c023-d48b323bc974"
   },
   "outputs": [
    {
     "data": {
      "image/png": "[encoded data removed]",
      "text/plain": [
       "<Figure size 432x288 with 1 Axes>"
      ]
     },
     "metadata": {},
     "output_type": "display_data"
    }
   ],
   "source": [
    "#Analizando visualmente la estabilidad de la métrica\n",
    "with plt.style.context('dark_background'):\n",
    "    plt.plot(range(0,10),scores_LDA,color=\"yellow\")\n",
    "    plt.title('Estabilidad del Accuracy LDA',weight='bold',color='red')\n",
    "    plt.ylabel('Accuracy Score',weight='bold',color=colores[1])\n",
    "    plt.axhline(y=scores_LDA.mean(),color=colores[2]) #Línea referencial\n",
    "    plt.ylim([0.9,1]) #Modificando los límites del eje Y\n",
    "plt.show()"
   ]
  },
  {
   "cell_type": "code",
   "execution_count": 76,
   "metadata": {
    "id": "_8_LelRrY3b3",
    "outputId": "6deb18b3-e800-4ffa-d0f9-e888490db214"
   },
   "outputs": [
    {
     "name": "stdout",
     "output_type": "stream",
     "text": [
      "Evaluando el Accuracy con el punto de corte por defecto: 0.994\n"
     ]
    }
   ],
   "source": [
    "#Evaluando el Accuracy con el punto de corte por defecto \n",
    "print(\"Evaluando el Accuracy con el punto de corte por defecto:\",accuracy_score(y_true=y_train,y_pred=prob_train_cat_LDA).round(3))"
   ]
  },
  {
   "cell_type": "code",
   "execution_count": 77,
   "metadata": {
    "id": "PD0Mix0JY3b3",
    "outputId": "228cf9d9-ea52-4b9d-cd98-44137e587ecc"
   },
   "outputs": [
    {
     "name": "stdout",
     "output_type": "stream",
     "text": [
      "Evaluando el Accuracy con el punto de corte propuesto por nosotros: 0.994\n"
     ]
    }
   ],
   "source": [
    "#Evaluando el Accuracy con el punto de corte propuesto por nosotros\n",
    "print(\"Evaluando el Accuracy con el punto de corte propuesto por nosotros:\",accuracy_score(y_true=y_train,y_pred=prob_wines_train_LDA[\"predicción\"]).round(3))"
   ]
  },
  {
   "cell_type": "markdown",
   "metadata": {},
   "source": [
    "### _Matriz de Confusión para Data de Entrenamiento_"
   ]
  },
  {
   "cell_type": "code",
   "execution_count": 78,
   "metadata": {},
   "outputs": [
    {
     "name": "stdout",
     "output_type": "stream",
     "text": [
      "(array([1, 2]), array([3679, 1193], dtype=int64))\n"
     ]
    }
   ],
   "source": [
    "print(np.unique(prob_wines_train_LDA[\"predicción\"], return_counts=True))"
   ]
  },
  {
   "cell_type": "code",
   "execution_count": 79,
   "metadata": {
    "scrolled": true
   },
   "outputs": [
    {
     "data": {
      "text/html": [
       "<div>\n",
       "<style scoped>\n",
       "    .dataframe tbody tr th:only-of-type {\n",
       "        vertical-align: middle;\n",
       "    }\n",
       "\n",
       "    .dataframe tbody tr th {\n",
       "        vertical-align: top;\n",
       "    }\n",
       "\n",
       "    .dataframe thead th {\n",
       "        text-align: right;\n",
       "    }\n",
       "</style>\n",
       "<table border=\"1\" class=\"dataframe\">\n",
       "  <thead>\n",
       "    <tr style=\"text-align: right;\">\n",
       "      <th>predicción</th>\n",
       "      <th>1</th>\n",
       "      <th>2</th>\n",
       "    </tr>\n",
       "    <tr>\n",
       "      <th>row_0</th>\n",
       "      <th></th>\n",
       "      <th></th>\n",
       "    </tr>\n",
       "  </thead>\n",
       "  <tbody>\n",
       "    <tr>\n",
       "      <th>1</th>\n",
       "      <td>3662</td>\n",
       "      <td>11</td>\n",
       "    </tr>\n",
       "    <tr>\n",
       "      <th>2</th>\n",
       "      <td>17</td>\n",
       "      <td>1182</td>\n",
       "    </tr>\n",
       "  </tbody>\n",
       "</table>\n",
       "</div>"
      ],
      "text/plain": [
       "predicción     1     2\n",
       "row_0                 \n",
       "1           3662    11\n",
       "2             17  1182"
      ]
     },
     "execution_count": 79,
     "metadata": {},
     "output_type": "execute_result"
    }
   ],
   "source": [
    "confusion_matrix_LDA_train = pd.crosstab(y_train,prob_wines_train_LDA[\"predicción\"])\n",
    "confusion_matrix_LDA_train"
   ]
  },
  {
   "cell_type": "code",
   "execution_count": 80,
   "metadata": {
    "id": "CpJkRvUJY3b6"
   },
   "outputs": [],
   "source": [
    "VP_train_LDA=confusion_matrix_LDA_train[2][2]\n",
    "VN_train_LDA=confusion_matrix_LDA_train[1][1]\n",
    "FP_train_LDA=confusion_matrix_LDA_train[2][1]\n",
    "FN_train_LDA=confusion_matrix_LDA_train[1][2]"
   ]
  },
  {
   "cell_type": "code",
   "execution_count": 81,
   "metadata": {
    "id": "zxFDzvalY3b6",
    "outputId": "33d4caff-532b-43a3-909b-6c832d4e5be9"
   },
   "outputs": [
    {
     "name": "stdout",
     "output_type": "stream",
     "text": [
      "La sensibilidad de la data de entrenamiendo según el modelo de Análisis Discrimiante Lineal es: 0.986\n"
     ]
    }
   ],
   "source": [
    "sensibilidad_train_LDA= (VP_train_LDA/(VP_train_LDA+FN_train_LDA)).round(3)\n",
    "print(\"La sensibilidad de la data de entrenamiendo según el modelo de Análisis Discrimiante Lineal es:\",sensibilidad_train_LDA)"
   ]
  },
  {
   "cell_type": "code",
   "execution_count": 82,
   "metadata": {
    "id": "C4pszigSY3b7",
    "outputId": "284ca7f2-497e-4f15-c49c-61b88c90dc45"
   },
   "outputs": [
    {
     "name": "stdout",
     "output_type": "stream",
     "text": [
      "La especificidad de la data de entrenamiendo según el modelo de Análisis Discrimiante Lineal es: 0.997\n"
     ]
    }
   ],
   "source": [
    "especificidad_train_LDA= (VN_train_LDA/(VN_train_LDA+FP_train_LDA)).round(3)\n",
    "print(\"La especificidad de la data de entrenamiendo según el modelo de Análisis Discrimiante Lineal es:\",especificidad_train_LDA)"
   ]
  },
  {
   "cell_type": "code",
   "execution_count": 83,
   "metadata": {
    "id": "GJsK__OOY3b7",
    "outputId": "d6b64046-12f8-47f3-9c84-15dccf410f49"
   },
   "outputs": [
    {
     "name": "stdout",
     "output_type": "stream",
     "text": [
      "Calculando: 1-(especifidad)= 0.003\n"
     ]
    }
   ],
   "source": [
    "esp_1_LDA= (1-especificidad_train_LDA).round(3)\n",
    "print(\"Calculando: 1-(especifidad)=\",esp_1_LDA)"
   ]
  },
  {
   "cell_type": "code",
   "execution_count": 84,
   "metadata": {
    "id": "Vm1ew4Q3Y3b8",
    "outputId": "c380edbb-ae7e-45de-be4a-138c860c651b"
   },
   "outputs": [
    {
     "data": {
      "image/png": "[encoded data removed]",
      "text/plain": [
       "<Figure size 432x288 with 1 Axes>"
      ]
     },
     "metadata": {},
     "output_type": "display_data"
    }
   ],
   "source": [
    "with plt.style.context('dark_background'):\n",
    "    plt.plot(esp_1_LDA,sensibilidad_train_LDA, marker='o',color=colores[1])\n",
    "    x=[i*0.01 for i in range(100)]\n",
    "    y=[i*0.01 for i in range(100)]\n",
    "    plt.plot(x,y)\n",
    "    plt.xlabel(\"1 - Especificidad\",weight='bold')\n",
    "    plt.ylabel(\"Sensibilidad\",weight='bold')\n",
    "plt.title(\"Curva ROC-Data de Entrenamiento LDA\",weight='bold',color='red')\n",
    "plt.show()"
   ]
  },
  {
   "cell_type": "code",
   "execution_count": 85,
   "metadata": {},
   "outputs": [
    {
     "name": "stdout",
     "output_type": "stream",
     "text": [
      "              precision    recall  f1-score   support\n",
      "\n",
      "           1      0.995     0.997     0.996      3673\n",
      "           2      0.991     0.986     0.988      1199\n",
      "\n",
      "    accuracy                          0.994      4872\n",
      "   macro avg      0.993     0.991     0.992      4872\n",
      "weighted avg      0.994     0.994     0.994      4872\n",
      "\n"
     ]
    }
   ],
   "source": [
    "print(classification_report(y_train, prob_wines_train_LDA[\"predicción\"], digits=3))"
   ]
  },
  {
   "cell_type": "markdown",
   "metadata": {
    "id": "3Moo9i45Y3b8"
   },
   "source": [
    "### _Matriz de Confusión para Data de Testeo_"
   ]
  },
  {
   "cell_type": "code",
   "execution_count": 86,
   "metadata": {},
   "outputs": [
    {
     "name": "stdout",
     "output_type": "stream",
     "text": [
      "(array([1, 2]), array([1223,  402], dtype=int64))\n"
     ]
    }
   ],
   "source": [
    "print(np.unique(prob_wines_test_LDA['prediccion'], return_counts=True))"
   ]
  },
  {
   "cell_type": "code",
   "execution_count": 87,
   "metadata": {
    "id": "VmdGk9vXY3b8",
    "outputId": "607dd9a9-babe-48be-94c8-1619538622b6"
   },
   "outputs": [
    {
     "data": {
      "text/html": [
       "<div>\n",
       "<style scoped>\n",
       "    .dataframe tbody tr th:only-of-type {\n",
       "        vertical-align: middle;\n",
       "    }\n",
       "\n",
       "    .dataframe tbody tr th {\n",
       "        vertical-align: top;\n",
       "    }\n",
       "\n",
       "    .dataframe thead th {\n",
       "        text-align: right;\n",
       "    }\n",
       "</style>\n",
       "<table border=\"1\" class=\"dataframe\">\n",
       "  <thead>\n",
       "    <tr style=\"text-align: right;\">\n",
       "      <th>prediccion</th>\n",
       "      <th>1</th>\n",
       "      <th>2</th>\n",
       "    </tr>\n",
       "    <tr>\n",
       "      <th>row_0</th>\n",
       "      <th></th>\n",
       "      <th></th>\n",
       "    </tr>\n",
       "  </thead>\n",
       "  <tbody>\n",
       "    <tr>\n",
       "      <th>1</th>\n",
       "      <td>1221</td>\n",
       "      <td>4</td>\n",
       "    </tr>\n",
       "    <tr>\n",
       "      <th>2</th>\n",
       "      <td>2</td>\n",
       "      <td>398</td>\n",
       "    </tr>\n",
       "  </tbody>\n",
       "</table>\n",
       "</div>"
      ],
      "text/plain": [
       "prediccion     1    2\n",
       "row_0                \n",
       "1           1221    4\n",
       "2              2  398"
      ]
     },
     "execution_count": 87,
     "metadata": {},
     "output_type": "execute_result"
    }
   ],
   "source": [
    "confusion_matrix_LDA_test=pd.crosstab(y_test,prob_wines_test_LDA['prediccion'])\n",
    "confusion_matrix_LDA_test"
   ]
  },
  {
   "cell_type": "code",
   "execution_count": 88,
   "metadata": {
    "id": "y7qrICmJY3b9"
   },
   "outputs": [],
   "source": [
    "VP_test_LDA=confusion_matrix_LDA_test[2][2]\n",
    "VN_test_LDA=confusion_matrix_LDA_test[1][1]\n",
    "FP_test_LDA=confusion_matrix_LDA_test[2][1]\n",
    "FN_test_LDA=confusion_matrix_LDA_test[1][2]"
   ]
  },
  {
   "cell_type": "code",
   "execution_count": 89,
   "metadata": {
    "id": "p9Babc2CY3b9",
    "outputId": "521906bc-bf4d-4d5a-a81e-1207c33d23dd"
   },
   "outputs": [
    {
     "name": "stdout",
     "output_type": "stream",
     "text": [
      "La sensibilidad de la data de testeo según el modelo de Regresión logística es: 0.995\n"
     ]
    }
   ],
   "source": [
    "sensiblidad_test_LDA= (VP_test_LDA/(VP_test_LDA+FN_test_LDA)).round(3)\n",
    "print(\"La sensibilidad de la data de testeo según el modelo de Regresión logística es:\",sensiblidad_test_LDA)"
   ]
  },
  {
   "cell_type": "code",
   "execution_count": 90,
   "metadata": {
    "id": "LcUaObSSY3b9",
    "outputId": "8d2c4622-ac77-489e-95de-1852a19a58eb"
   },
   "outputs": [
    {
     "name": "stdout",
     "output_type": "stream",
     "text": [
      "La especificidad de la data de testeo según el modelo de Regresión logística es: 0.997\n"
     ]
    }
   ],
   "source": [
    "especificidad_test_LDA= (VN_test_LDA/(VN_test_LDA+FP_test_LDA)).round(3)\n",
    "print(\"La especificidad de la data de testeo según el modelo de Regresión logística es:\",especificidad_test_LDA)"
   ]
  },
  {
   "cell_type": "code",
   "execution_count": 91,
   "metadata": {},
   "outputs": [
    {
     "name": "stdout",
     "output_type": "stream",
     "text": [
      "Calculando: 1-(especifidad)= 0.003\n"
     ]
    }
   ],
   "source": [
    "esp_2_LDA= (1-especificidad_test_LDA).round(3)\n",
    "print(\"Calculando: 1-(especifidad)=\",esp_2_LDA)"
   ]
  },
  {
   "cell_type": "code",
   "execution_count": 92,
   "metadata": {
    "scrolled": true
   },
   "outputs": [
    {
     "data": {
      "image/png": "[encoded data removed]",
      "text/plain": [
       "<Figure size 432x288 with 1 Axes>"
      ]
     },
     "metadata": {},
     "output_type": "display_data"
    }
   ],
   "source": [
    "with plt.style.context('dark_background'):\n",
    "    plt.plot(esp_2_LDA,sensiblidad_test_LDA, marker='o',color=colores[1])\n",
    "    x=[i*0.01 for i in range(100)]\n",
    "    y=[i*0.01 for i in range(100)]\n",
    "    plt.plot(x,y)\n",
    "    plt.xlabel(\"1 - Especificidad\",weight='bold')\n",
    "    plt.ylabel(\"Sensibilidad\",weight='bold')\n",
    "plt.title(\"Curva ROC-Data de Testeo LDA\",weight='bold',color='red')\n",
    "plt.show()"
   ]
  },
  {
   "cell_type": "markdown",
   "metadata": {},
   "source": [
    "### ANÁLISIS DISCRMINANTE CUADRATICO"
   ]
  },
  {
   "cell_type": "code",
   "execution_count": 93,
   "metadata": {
    "id": "TC8ORXSSY3bx",
    "outputId": "9fbdea57-1eca-4739-cc04-7ca9b5deeb66"
   },
   "outputs": [
    {
     "name": "stdout",
     "output_type": "stream",
     "text": [
      "[0.971 0.984 0.986 0.988 0.99  0.984 0.99  0.99  0.971 0.982]\n"
     ]
    }
   ],
   "source": [
    "scores_QDA= cross_val_score(estimator=model2, #Modelo\n",
    "                   X=X_train, #Matriz de Datos\n",
    "                   y=y_train, #Variable Target\n",
    "                   scoring='accuracy', #Métrica a evaluar\n",
    "                   cv=10) #Número de particiones\n",
    "print(scores_QDA.round(3))"
   ]
  },
  {
   "cell_type": "code",
   "execution_count": 94,
   "metadata": {
    "id": "Bb5hoNZSY3bz",
    "outputId": "7a55df3e-6a93-4ad6-aa07-8d4868ce488d"
   },
   "outputs": [
    {
     "data": {
      "text/plain": [
       "0.983"
      ]
     },
     "execution_count": 94,
     "metadata": {},
     "output_type": "execute_result"
    }
   ],
   "source": [
    "scores_QDA.mean().round(3)"
   ]
  },
  {
   "cell_type": "code",
   "execution_count": 95,
   "metadata": {
    "id": "mTJld_dJY3b0",
    "outputId": "e54e69a1-c510-40e3-c023-d48b323bc974"
   },
   "outputs": [
    {
     "data": {
      "image/png": "[encoded data removed]",
      "text/plain": [
       "<Figure size 432x288 with 1 Axes>"
      ]
     },
     "metadata": {},
     "output_type": "display_data"
    }
   ],
   "source": [
    "#Analizando visualmente la estabilidad de la métrica\n",
    "with plt.style.context('dark_background'):\n",
    "    plt.plot(range(0,10),scores_QDA,color=\"yellow\")\n",
    "    plt.title('Estabilidad del Accuracy QDA',weight='bold',color='red')\n",
    "    plt.ylabel('Accuracy Score',weight='bold',color=colores[1])\n",
    "    plt.axhline(y=scores_QDA.mean(),color=colores[2]) #Línea referencial\n",
    "    plt.ylim([0.9,1]) #Modificando los límites del eje Y\n",
    "plt.show()"
   ]
  },
  {
   "cell_type": "code",
   "execution_count": 96,
   "metadata": {
    "id": "_8_LelRrY3b3",
    "outputId": "6deb18b3-e800-4ffa-d0f9-e888490db214"
   },
   "outputs": [
    {
     "name": "stdout",
     "output_type": "stream",
     "text": [
      "Evaluando el Accuracy con el punto de corte por defecto: 0.983\n"
     ]
    }
   ],
   "source": [
    "#Evaluando el Accuracy con el punto de corte por defecto \n",
    "print(\"Evaluando el Accuracy con el punto de corte por defecto:\",accuracy_score(y_true=y_train,y_pred=prob_train_cat_cuadratica).round(3))"
   ]
  },
  {
   "cell_type": "code",
   "execution_count": 97,
   "metadata": {
    "id": "PD0Mix0JY3b3",
    "outputId": "228cf9d9-ea52-4b9d-cd98-44137e587ecc"
   },
   "outputs": [
    {
     "name": "stdout",
     "output_type": "stream",
     "text": [
      "Evaluando el Accuracy con el punto de corte propuesto por nosotros: 0.984\n"
     ]
    }
   ],
   "source": [
    "#Evaluando el Accuracy con el punto de corte propuesto por nosotros\n",
    "print(\"Evaluando el Accuracy con el punto de corte propuesto por nosotros:\",accuracy_score(y_true=y_train,y_pred=prob_wines_train_cuadratica[\"prediccion\"]).round(3))"
   ]
  },
  {
   "cell_type": "markdown",
   "metadata": {},
   "source": [
    "### _Matriz de Confusión para Data de Entrenamiento_"
   ]
  },
  {
   "cell_type": "code",
   "execution_count": 98,
   "metadata": {},
   "outputs": [
    {
     "name": "stdout",
     "output_type": "stream",
     "text": [
      "(array([1, 2]), array([3624, 1248], dtype=int64))\n"
     ]
    }
   ],
   "source": [
    "print(np.unique(prob_wines_train_cuadratica[\"prediccion\"], return_counts=True))"
   ]
  },
  {
   "cell_type": "code",
   "execution_count": 99,
   "metadata": {
    "scrolled": true
   },
   "outputs": [
    {
     "data": {
      "text/html": [
       "<div>\n",
       "<style scoped>\n",
       "    .dataframe tbody tr th:only-of-type {\n",
       "        vertical-align: middle;\n",
       "    }\n",
       "\n",
       "    .dataframe tbody tr th {\n",
       "        vertical-align: top;\n",
       "    }\n",
       "\n",
       "    .dataframe thead th {\n",
       "        text-align: right;\n",
       "    }\n",
       "</style>\n",
       "<table border=\"1\" class=\"dataframe\">\n",
       "  <thead>\n",
       "    <tr style=\"text-align: right;\">\n",
       "      <th>prediccion</th>\n",
       "      <th>1</th>\n",
       "      <th>2</th>\n",
       "    </tr>\n",
       "    <tr>\n",
       "      <th>row_0</th>\n",
       "      <th></th>\n",
       "      <th></th>\n",
       "    </tr>\n",
       "  </thead>\n",
       "  <tbody>\n",
       "    <tr>\n",
       "      <th>1</th>\n",
       "      <td>3610</td>\n",
       "      <td>63</td>\n",
       "    </tr>\n",
       "    <tr>\n",
       "      <th>2</th>\n",
       "      <td>14</td>\n",
       "      <td>1185</td>\n",
       "    </tr>\n",
       "  </tbody>\n",
       "</table>\n",
       "</div>"
      ],
      "text/plain": [
       "prediccion     1     2\n",
       "row_0                 \n",
       "1           3610    63\n",
       "2             14  1185"
      ]
     },
     "execution_count": 99,
     "metadata": {},
     "output_type": "execute_result"
    }
   ],
   "source": [
    "confusion_matrix_QDA_train = pd.crosstab(y_train,prob_wines_train_cuadratica[\"prediccion\"])\n",
    "confusion_matrix_QDA_train"
   ]
  },
  {
   "cell_type": "code",
   "execution_count": 100,
   "metadata": {
    "id": "CpJkRvUJY3b6"
   },
   "outputs": [],
   "source": [
    "VP_train_QDA=confusion_matrix_QDA_train[2][2]\n",
    "VN_train_QDA=confusion_matrix_QDA_train[1][1]\n",
    "FP_train_QDA=confusion_matrix_QDA_train[2][1]\n",
    "FN_train_QDA=confusion_matrix_QDA_train[1][2]"
   ]
  },
  {
   "cell_type": "code",
   "execution_count": 101,
   "metadata": {
    "id": "zxFDzvalY3b6",
    "outputId": "33d4caff-532b-43a3-909b-6c832d4e5be9"
   },
   "outputs": [
    {
     "name": "stdout",
     "output_type": "stream",
     "text": [
      "La sensibilidad de la data de entrenamiendo según el modelo de Análisis Discrimiante Cuadratica es: 0.988\n"
     ]
    }
   ],
   "source": [
    "sensibilidad_train_QDA= (VP_train_QDA/(VP_train_QDA+FN_train_QDA)).round(3)\n",
    "print(\"La sensibilidad de la data de entrenamiendo según el modelo de Análisis Discrimiante Cuadratica es:\",sensibilidad_train_QDA)"
   ]
  },
  {
   "cell_type": "code",
   "execution_count": 102,
   "metadata": {
    "id": "C4pszigSY3b7",
    "outputId": "284ca7f2-497e-4f15-c49c-61b88c90dc45"
   },
   "outputs": [
    {
     "name": "stdout",
     "output_type": "stream",
     "text": [
      "La especificidad de la data de entrenamiendo según el modelo de Análisis Discrimiante Lineal es: 0.983\n"
     ]
    }
   ],
   "source": [
    "especificidad_train_QDA= (VN_train_QDA/(VN_train_QDA+FP_train_QDA)).round(3)\n",
    "print(\"La especificidad de la data de entrenamiendo según el modelo de Análisis Discrimiante Lineal es:\",especificidad_train_QDA)"
   ]
  },
  {
   "cell_type": "code",
   "execution_count": 103,
   "metadata": {
    "id": "GJsK__OOY3b7",
    "outputId": "d6b64046-12f8-47f3-9c84-15dccf410f49"
   },
   "outputs": [
    {
     "name": "stdout",
     "output_type": "stream",
     "text": [
      "Calculando: 1-(especifidad)= 0.017\n"
     ]
    }
   ],
   "source": [
    "esp_1_QDA= (1-especificidad_train_QDA).round(3)\n",
    "print(\"Calculando: 1-(especifidad)=\",esp_1_QDA)"
   ]
  },
  {
   "cell_type": "code",
   "execution_count": 104,
   "metadata": {
    "id": "Vm1ew4Q3Y3b8",
    "outputId": "c380edbb-ae7e-45de-be4a-138c860c651b"
   },
   "outputs": [
    {
     "data": {
      "image/png": "[encoded data removed]",
      "text/plain": [
       "<Figure size 432x288 with 1 Axes>"
      ]
     },
     "metadata": {},
     "output_type": "display_data"
    }
   ],
   "source": [
    "with plt.style.context('dark_background'):\n",
    "    plt.plot(esp_1_QDA,sensibilidad_train_QDA, marker='o',color=colores[1])\n",
    "    x=[i*0.01 for i in range(100)]\n",
    "    y=[i*0.01 for i in range(100)]\n",
    "    plt.plot(x,y)\n",
    "    plt.xlabel(\"1 - Especificidad\",weight='bold')\n",
    "    plt.ylabel(\"Sensibilidad\",weight='bold')\n",
    "plt.title(\"Curva ROC-Data de Entrenamiento\",weight='bold',color='red')\n",
    "plt.show()"
   ]
  },
  {
   "cell_type": "code",
   "execution_count": 105,
   "metadata": {},
   "outputs": [
    {
     "name": "stdout",
     "output_type": "stream",
     "text": [
      "              precision    recall  f1-score   support\n",
      "\n",
      "           1      0.996     0.983     0.989      3673\n",
      "           2      0.950     0.988     0.969      1199\n",
      "\n",
      "    accuracy                          0.984      4872\n",
      "   macro avg      0.973     0.986     0.979      4872\n",
      "weighted avg      0.985     0.984     0.984      4872\n",
      "\n"
     ]
    }
   ],
   "source": [
    "print(classification_report(y_train, prob_wines_train_cuadratica[\"prediccion\"], digits=3))"
   ]
  },
  {
   "cell_type": "markdown",
   "metadata": {
    "id": "3Moo9i45Y3b8"
   },
   "source": [
    "### _Matriz de Confusión para Data de Testeo_"
   ]
  },
  {
   "cell_type": "code",
   "execution_count": 106,
   "metadata": {},
   "outputs": [
    {
     "name": "stdout",
     "output_type": "stream",
     "text": [
      "(array([1, 2]), array([1200,  425], dtype=int64))\n"
     ]
    }
   ],
   "source": [
    "print(np.unique(prob_wines_test_QDA['prediccion'], return_counts=True))"
   ]
  },
  {
   "cell_type": "code",
   "execution_count": 107,
   "metadata": {
    "id": "VmdGk9vXY3b8",
    "outputId": "607dd9a9-babe-48be-94c8-1619538622b6"
   },
   "outputs": [
    {
     "data": {
      "text/html": [
       "<div>\n",
       "<style scoped>\n",
       "    .dataframe tbody tr th:only-of-type {\n",
       "        vertical-align: middle;\n",
       "    }\n",
       "\n",
       "    .dataframe tbody tr th {\n",
       "        vertical-align: top;\n",
       "    }\n",
       "\n",
       "    .dataframe thead th {\n",
       "        text-align: right;\n",
       "    }\n",
       "</style>\n",
       "<table border=\"1\" class=\"dataframe\">\n",
       "  <thead>\n",
       "    <tr style=\"text-align: right;\">\n",
       "      <th>prediccion</th>\n",
       "      <th>1</th>\n",
       "      <th>2</th>\n",
       "    </tr>\n",
       "    <tr>\n",
       "      <th>row_0</th>\n",
       "      <th></th>\n",
       "      <th></th>\n",
       "    </tr>\n",
       "  </thead>\n",
       "  <tbody>\n",
       "    <tr>\n",
       "      <th>1</th>\n",
       "      <td>1197</td>\n",
       "      <td>28</td>\n",
       "    </tr>\n",
       "    <tr>\n",
       "      <th>2</th>\n",
       "      <td>3</td>\n",
       "      <td>397</td>\n",
       "    </tr>\n",
       "  </tbody>\n",
       "</table>\n",
       "</div>"
      ],
      "text/plain": [
       "prediccion     1    2\n",
       "row_0                \n",
       "1           1197   28\n",
       "2              3  397"
      ]
     },
     "execution_count": 107,
     "metadata": {},
     "output_type": "execute_result"
    }
   ],
   "source": [
    "confusion_matrix_QDA_test=pd.crosstab(y_test,prob_wines_test_QDA['prediccion'])\n",
    "confusion_matrix_QDA_test"
   ]
  },
  {
   "cell_type": "code",
   "execution_count": 108,
   "metadata": {
    "id": "y7qrICmJY3b9"
   },
   "outputs": [],
   "source": [
    "VP_test_QDA=confusion_matrix_QDA_test[2][2]\n",
    "VN_test_QDA=confusion_matrix_QDA_test[1][1]\n",
    "FP_test_QDA=confusion_matrix_QDA_test[2][1]\n",
    "FN_test_QDA=confusion_matrix_QDA_test[1][2]"
   ]
  },
  {
   "cell_type": "code",
   "execution_count": 109,
   "metadata": {
    "id": "p9Babc2CY3b9",
    "outputId": "521906bc-bf4d-4d5a-a81e-1207c33d23dd"
   },
   "outputs": [
    {
     "name": "stdout",
     "output_type": "stream",
     "text": [
      "La sensibilidad de la data de testeo según el modelo de Regresión logística es: 0.992\n"
     ]
    }
   ],
   "source": [
    "sensiblidad_test_QDA= (VP_test_QDA/(VP_test_QDA+FN_test_QDA)).round(3)\n",
    "print(\"La sensibilidad de la data de testeo según el modelo de Regresión logística es:\",sensiblidad_test_QDA)"
   ]
  },
  {
   "cell_type": "code",
   "execution_count": 110,
   "metadata": {
    "id": "LcUaObSSY3b9",
    "outputId": "8d2c4622-ac77-489e-95de-1852a19a58eb"
   },
   "outputs": [
    {
     "name": "stdout",
     "output_type": "stream",
     "text": [
      "La especificidad de la data de testeo según el modelo de Regresión logística es: 0.977\n"
     ]
    }
   ],
   "source": [
    "especificidad_test_QDA= (VN_test_QDA/(VN_test_QDA+FP_test_QDA)).round(3)\n",
    "print(\"La especificidad de la data de testeo según el modelo de Regresión logística es:\",especificidad_test_QDA)"
   ]
  },
  {
   "cell_type": "code",
   "execution_count": 111,
   "metadata": {},
   "outputs": [
    {
     "name": "stdout",
     "output_type": "stream",
     "text": [
      "Calculando: 1-(especifidad)= 0.023\n"
     ]
    }
   ],
   "source": [
    "esp_2_QDA= (1- especificidad_test_QDA).round(3)\n",
    "print(\"Calculando: 1-(especifidad)=\",esp_2_QDA)"
   ]
  },
  {
   "cell_type": "code",
   "execution_count": 112,
   "metadata": {
    "scrolled": true
   },
   "outputs": [
    {
     "data": {
      "image/png": "[encoded data removed]",
      "text/plain": [
       "<Figure size 432x288 with 1 Axes>"
      ]
     },
     "metadata": {},
     "output_type": "display_data"
    }
   ],
   "source": [
    "with plt.style.context('dark_background'):\n",
    "    plt.plot(esp_2_QDA,sensiblidad_test_QDA, marker='o',color=colores[1])\n",
    "    x=[i*0.01 for i in range(100)]\n",
    "    y=[i*0.01 for i in range(100)]\n",
    "    plt.plot(x,y)\n",
    "    plt.xlabel(\"1 - Especificidad\",weight='bold')\n",
    "    plt.ylabel(\"Sensibilidad\",weight='bold')\n",
    "plt.title(\"Curva ROC-Data de Testeo\",weight='bold',color='red')\n",
    "plt.show()"
   ]
  },
  {
   "cell_type": "markdown",
   "metadata": {},
   "source": [
    "## 10. Realice una evaluación comentada de los tres modelos y seleccione uno de ellos (el de mejor performance) y estime la probabilidad de que el tipo de vino sea rojo teniendo en cuenta los siguientes valores para la variables:"
   ]
  },
  {
   "cell_type": "markdown",
   "metadata": {},
   "source": [
    "- fixed acidity(acidez fija): 7.2\n",
    "- volatile acidity(acidez volátil): 0.35\n",
    "- citric acid(ácido cítrico): 0.74\n",
    "- residual sugar(azúcar residual): 2.2\n",
    "- chlorides(cloruros): 0.051\n",
    "- free sulfur dioxide(dióxido de azufre libre): 32.0\n",
    "- total sulfur dioxide(dióxido de azufre total): 183\n",
    "- density(densidad): 0.98720\n",
    "- pH: 3.15\n",
    "- sulphates(sulfatos): 0.38\n",
    "- alcohol: 12.0"
   ]
  },
  {
   "cell_type": "code",
   "execution_count": 113,
   "metadata": {},
   "outputs": [
    {
     "name": "stdout",
     "output_type": "stream",
     "text": [
      "CASO I:\n",
      "Analizando los tres modelos según la curva ROC:\n",
      "\t1. Regresión logística:\n",
      "\t\tEl punto ROC(A=(1 - Especificidad, Sensibilidad)) es: A=( 0.011 , 0.965 )\n",
      "\t2. Análisis Discriminante Lineal:\n",
      "\t\tEl punto ROC(B=(1 - Especificidad, Sensibilidad)) es: B=( 0.003 , 0.986 )\n",
      "\t3. Análisis Discriminante Cuadrático:\n",
      "\t\tEl punto ROC(C=(1 - Especificidad, Sensibilidad)) es: C=( 0.017 , 0.988 )\n",
      "Podemos observar que el punto que mejor se aproxima al punto (0,1) es el punto B que pertenece al modelo ANÁLISIS DISCRIMINANTE LINEAL (LDA), por lo tanto podemos decir que LDA es el modelo óptimo según la curva ROC.\n",
      "\n",
      "\n",
      "CASO II:\n",
      "Analizando la mérica Accuracy Score:\n",
      "\t1. Regresión logística:\n",
      "\t\tEstabilida Accuracy: 0.979\n",
      "\t2. Análisis Discriminante Lineal:\n",
      "\t\tEstabilida Accuracy : 0.994\n",
      "\t3. Análisis Discriminante Cuadrático:\n",
      "\t\tEstabilida Accuracy: 0.984\n",
      "Podemos observar que el más exacto es el modelo ANÁLISIS DISCRIMINANTE LINEAL (LDA), por ende es el mas óptimo según la  mérica Accuracy ya que se aproxima a 1.\n",
      "\n",
      "\n",
      "Entonces de los  CASO I y CASO II, podemos concluir que el modelo más óptimo para la BASE DE DATO DEL VINO ROJO Y BLANCO es el MODELO ANÁLISIS DISCRIMINANTE LINEAL (LDA) ya que ambos casos fue el más preciso y el más exaxtoy el más estable.\n"
     ]
    }
   ],
   "source": [
    "print(\"CASO I:\")\n",
    "print(\"Analizando los tres modelos según la curva ROC:\") \n",
    "print(\"\\t1. Regresión logística:\")\n",
    "print(\"\\t\\tEl punto ROC(A=(1 - Especificidad, Sensibilidad)) es: A=(\",esp_1_logistica,\",\",sensibilidad_train_logistica,\")\")\n",
    "print(\"\\t2. Análisis Discriminante Lineal:\")\n",
    "print(\"\\t\\tEl punto ROC(B=(1 - Especificidad, Sensibilidad)) es: B=(\",esp_1_LDA,\",\",sensibilidad_train_LDA,\")\")\n",
    "print(\"\\t3. Análisis Discriminante Cuadrático:\")\n",
    "print(\"\\t\\tEl punto ROC(C=(1 - Especificidad, Sensibilidad)) es: C=(\",esp_1_QDA,\",\",sensibilidad_train_QDA,\")\")\n",
    "print(\"Podemos observar que el punto que mejor se aproxima al punto (0,1) es el punto B que pertenece al modelo ANÁLISIS DISCRIMINANTE LINEAL (LDA), por lo tanto podemos decir que LDA es el modelo óptimo según la curva ROC.\")\n",
    "print(\"\\n\")\n",
    "print(\"CASO II:\")\n",
    "print(\"Analizando la mérica Accuracy Score:\")\n",
    "print(\"\\t1. Regresión logística:\")\n",
    "print(\"\\t\\tEstabilida Accuracy:\",accuracy_score(y_true=ytrain_st,y_pred=prob_wines_train_logistica[\"prediccion\"]).round(3))\n",
    "print(\"\\t2. Análisis Discriminante Lineal:\")\n",
    "print(\"\\t\\tEstabilida Accuracy :\",accuracy_score(y_true=y_train,y_pred=prob_train_cat_LDA).round(3))\n",
    "print(\"\\t3. Análisis Discriminante Cuadrático:\")\n",
    "print(\"\\t\\tEstabilida Accuracy:\",accuracy_score(y_true=y_train,y_pred=prob_wines_train_cuadratica[\"prediccion\"]).round(3))\n",
    "print(\"Podemos observar que el más exacto es el modelo ANÁLISIS DISCRIMINANTE LINEAL (LDA), por ende es el mas óptimo según la  mérica Accuracy ya que se aproxima a 1.\")\n",
    "print(\"\\n\")\n",
    "print(\"Entonces de los  CASO I y CASO II, podemos concluir que el modelo más óptimo para la BASE DE DATO DEL VINO ROJO Y BLANCO es el MODELO ANÁLISIS DISCRIMINANTE LINEAL (LDA) ya que ambos casos fue el más preciso y el más exaxtoy el más estable.\")\n"
   ]
  },
  {
   "cell_type": "markdown",
   "metadata": {},
   "source": [
    "**Prediciendo sagún los valores datos**"
   ]
  },
  {
   "cell_type": "code",
   "execution_count": 114,
   "metadata": {},
   "outputs": [],
   "source": [
    "#Creamos una nueva data\n",
    "data_nueva={'fixed acidity':[7.2],'volatile acidity':[0.35],'citric acid':[0.74],'residual sugar':[2.2], \n",
    "            'chlorides':[0.051],'free sulfur dioxide':[32.0],'total sulfur dioxide':[183],'density':[0.98720],\n",
    "            'pH':[3.15],'sulphates':[0.38],'alcohol':[12.0]}"
   ]
  },
  {
   "cell_type": "code",
   "execution_count": 115,
   "metadata": {},
   "outputs": [
    {
     "data": {
      "text/html": [
       "<div>\n",
       "<style scoped>\n",
       "    .dataframe tbody tr th:only-of-type {\n",
       "        vertical-align: middle;\n",
       "    }\n",
       "\n",
       "    .dataframe tbody tr th {\n",
       "        vertical-align: top;\n",
       "    }\n",
       "\n",
       "    .dataframe thead th {\n",
       "        text-align: right;\n",
       "    }\n",
       "</style>\n",
       "<table border=\"1\" class=\"dataframe\">\n",
       "  <thead>\n",
       "    <tr style=\"text-align: right;\">\n",
       "      <th></th>\n",
       "      <th>fixed acidity</th>\n",
       "      <th>volatile acidity</th>\n",
       "      <th>citric acid</th>\n",
       "      <th>residual sugar</th>\n",
       "      <th>chlorides</th>\n",
       "      <th>free sulfur dioxide</th>\n",
       "      <th>total sulfur dioxide</th>\n",
       "      <th>density</th>\n",
       "      <th>pH</th>\n",
       "      <th>sulphates</th>\n",
       "      <th>alcohol</th>\n",
       "    </tr>\n",
       "  </thead>\n",
       "  <tbody>\n",
       "    <tr>\n",
       "      <th>0</th>\n",
       "      <td>7.2</td>\n",
       "      <td>0.35</td>\n",
       "      <td>0.74</td>\n",
       "      <td>2.2</td>\n",
       "      <td>0.051</td>\n",
       "      <td>32.0</td>\n",
       "      <td>183</td>\n",
       "      <td>0.9872</td>\n",
       "      <td>3.15</td>\n",
       "      <td>0.38</td>\n",
       "      <td>12.0</td>\n",
       "    </tr>\n",
       "  </tbody>\n",
       "</table>\n",
       "</div>"
      ],
      "text/plain": [
       "   fixed acidity  volatile acidity  citric acid  residual sugar  chlorides  \\\n",
       "0            7.2              0.35         0.74             2.2      0.051   \n",
       "\n",
       "   free sulfur dioxide  total sulfur dioxide  density    pH  sulphates  \\\n",
       "0                 32.0                   183   0.9872  3.15       0.38   \n",
       "\n",
       "   alcohol  \n",
       "0     12.0  "
      ]
     },
     "execution_count": 115,
     "metadata": {},
     "output_type": "execute_result"
    }
   ],
   "source": [
    "#Lo convertimos los nuevos datos en un Data Frame\n",
    "df=pd.DataFrame(data_nueva, columns=['fixed acidity','volatile acidity','citric acid','residual sugar','chlorides',\n",
    "                                    'free sulfur dioxide','total sulfur dioxide','density','pH','sulphates','alcohol'])\n",
    "df.head()"
   ]
  },
  {
   "cell_type": "code",
   "execution_count": 116,
   "metadata": {},
   "outputs": [
    {
     "name": "stdout",
     "output_type": "stream",
     "text": [
      "El tipo de vino es: [1] = White(blanco)\n"
     ]
    }
   ],
   "source": [
    "#Hacemos la predicción con el modelo que elegimos que fue el LDA\n",
    "predicion_LDA=model.predict(df)\n",
    "print(\"El tipo de vino es:\",predicion_LDA,\"= White(blanco)\")"
   ]
  },
  {
   "cell_type": "markdown",
   "metadata": {},
   "source": [
    "**Probabilidad**"
   ]
  },
  {
   "cell_type": "code",
   "execution_count": 117,
   "metadata": {},
   "outputs": [
    {
     "data": {
      "text/plain": [
       "array([[1., 0.]])"
      ]
     },
     "execution_count": 117,
     "metadata": {},
     "output_type": "execute_result"
    }
   ],
   "source": [
    "probabilidad=model.predict_proba(df).round(3)\n",
    "probabilidad"
   ]
  },
  {
   "cell_type": "code",
   "execution_count": 118,
   "metadata": {},
   "outputs": [
    {
     "data": {
      "text/plain": [
       "array([0.])"
      ]
     },
     "execution_count": 118,
     "metadata": {},
     "output_type": "execute_result"
    }
   ],
   "source": [
    "prob_LDA=probabilidad[:,1].round(3)\n",
    "prob_LDA"
   ]
  },
  {
   "cell_type": "code",
   "execution_count": 119,
   "metadata": {},
   "outputs": [
    {
     "name": "stdout",
     "output_type": "stream",
     "text": [
      "La probabilidad para que sea VINO ROJO es de 0%\n"
     ]
    }
   ],
   "source": [
    "print(\"La probabilidad para que sea VINO ROJO es de 0%\")"
   ]
  },
  {
   "cell_type": "code",
   "execution_count": null,
   "metadata": {},
   "outputs": [],
   "source": []
  }
 ],
 "metadata": {
  "colab": {
   "name": "examen_python_intermedio.ipynb",
   "provenance": []
  },
  "kernelspec": {
   "display_name": "Python 3",
   "language": "python",
   "name": "python3"
  },
  "language_info": {
   "codemirror_mode": {
    "name": "ipython",
    "version": 3
   },
   "file_extension": ".py",
   "mimetype": "text/x-python",
   "name": "python",
   "nbconvert_exporter": "python",
   "pygments_lexer": "ipython3",
   "version": "3.8.5"
  }
 },
 "nbformat": 4,
 "nbformat_minor": 1
}
